{
 "cells": [
  {
   "cell_type": "markdown",
   "metadata": {},
   "source": [
    "# Multivariate Distributions"
   ]
  },
  {
   "cell_type": "code",
   "execution_count": 9,
   "metadata": {},
   "outputs": [],
   "source": [
    "using Combinatorics\n",
    "using Distributions, Random"
   ]
  },
  {
   "cell_type": "code",
   "execution_count": 10,
   "metadata": {},
   "outputs": [],
   "source": [
    "using GLMakie"
   ]
  },
  {
   "cell_type": "markdown",
   "metadata": {},
   "source": [
    "# Bivariate Normal Distribution\n"
   ]
  },
  {
   "cell_type": "markdown",
   "metadata": {},
   "source": [
    "The most prevalent _multivariate normal distribution_ is **bivariate normal distribution**\n",
    "\n",
    "$$\n",
    "\\begin{equation}\n",
    "f_\\mathbb{X}(x_1,...,x_2)=\\frac{1}{\\sqrt{(2π)^k|Σ|}}\\exp{\\Big(-\\frac{(x-μ)^TΣ^{-1}(x-μ)}{2}\\Big)}\n",
    "\\end{equation}\n",
    "$$\n"
   ]
  },
  {
   "cell_type": "markdown",
   "metadata": {},
   "source": [
    "There are two ways of formulating a multivariate normal distribution in Python, use any one you see fit.\n"
   ]
  },
  {
   "cell_type": "markdown",
   "metadata": {},
   "source": [
    "## 1st Method of Formulation"
   ]
  },
  {
   "cell_type": "code",
   "execution_count": 11,
   "metadata": {},
   "outputs": [],
   "source": [
    "Random.seed!(42);\n",
    "mu_x = 0;\n",
    "sigma_x = 2;\n",
    "mu_y = 0;\n",
    "sigma_y = 2;\n",
    "\n",
    "d_mvnorm = MvNormal([mu_x, mu_y], [sigma_x 0; 0 sigma_y]);\n",
    "\n",
    "x = LinRange(-10, 10, 100);\n",
    "y = LinRange(-10, 10, 100);\n",
    "z = [pdf(d_mvnorm, [i, j]) for i ∈ x, j ∈ y];\n",
    "\n",
    "fig = Figure(resolution = (1000, 600));\n",
    "ax = Axis3(\n",
    "    fig[1, 1],\n",
    "    xlabel = \"X axis\",\n",
    "    ylabel = \"Y axis\",\n",
    "    zlabel = \"Z axis\",\n",
    "    title = \"Bivariate Normal Distribution\"\n",
    ");\n",
    "\n",
    "surface!(ax, x, y, z);\n",
    "\n",
    "fig"
   ]
  },
  {
   "cell_type": "markdown",
   "metadata": {},
   "source": [
    "## 2nd Method of Formulation"
   ]
  },
  {
   "cell_type": "code",
   "execution_count": 12,
   "metadata": {},
   "outputs": [
    {
     "ename": "UndefVarError",
     "evalue": "UndefVarError: libisoband not defined",
     "output_type": "error",
     "traceback": [
      "UndefVarError: libisoband not defined\n",
      "\n",
      "Stacktrace:\n",
      "  [1] isobands(xs::Vector{Float64}, ys::Vector{Float64}, zs::Matrix{Float64}, low_values::Vector{Float64}, high_values::Vector{Float64})\n",
      "    @ Isoband ~/.julia/packages/Isoband/qUEGP/src/Isoband.jl:63\n",
      "  [2] isobands(xs::Vector{Float32}, ys::Vector{Float32}, zs::LinearAlgebra.Adjoint{Float32, Matrix{Float32}}, lows::Vector{Float32}, highs::Vector{Float32})\n",
      "    @ Isoband ~/.julia/packages/Isoband/qUEGP/src/Isoband.jl:32\n",
      "  [3] (::Makie.var\"#calculate_polys#460\"{Observable{Vector{Float64}}, Observable{Vector{GeometryBasics.Polygon{2, Float32, Point{2, Float32}, GeometryBasics.LineString{2, Float32, Point{2, Float32}, Base.ReinterpretArray{GeometryBasics.Line{2, Float32}, 1, Tuple{Point{2, Float32}, Point{2, Float32}}, GeometryBasics.TupleView{Tuple{Point{2, Float32}, Point{2, Float32}}, 2, 1, Vector{Point{2, Float32}}}, false}}, Vector{GeometryBasics.LineString{2, Float32, Point{2, Float32}, Base.ReinterpretArray{GeometryBasics.Line{2, Float32}, 1, Tuple{Point{2, Float32}, Point{2, Float32}}, GeometryBasics.TupleView{Tuple{Point{2, Float32}, Point{2, Float32}}, 2, 1, Vector{Point{2, Float32}}}, false}}}}}}, Observable{Tuple{Float32, Float32}}})(xs::Vector{Float32}, ys::Vector{Float32}, zs::Matrix{Float32}, levels::Vector{Float32}, is_extended_low::Bool, is_extended_high::Bool)\n",
      "    @ Makie ~/.julia/packages/Makie/gQOQF/src/basic_recipes/contourf.jl:123\n",
      "  [4] plot!(c::Combined{Makie.contourf, Tuple{Vector{Float32}, Vector{Float32}, Matrix{Float32}}})\n",
      "    @ Makie ~/.julia/packages/Makie/gQOQF/src/basic_recipes/contourf.jl:149\n",
      "  [5] plot!(scene::Scene, P::Type{Combined{Makie.contourf, Tuple{LinRange{Float64, Int64}, LinRange{Float64, Int64}, Matrix{Float64}}}}, attributes::Attributes, input::Tuple{Observable{LinRange{Float64, Int64}}, Observable{LinRange{Float64, Int64}}, Observable{Matrix{Float64}}}, args::Observable{Tuple{Vector{Float32}, Vector{Float32}, Matrix{Float32}}})\n",
      "    @ Makie ~/.julia/packages/Makie/gQOQF/src/interfaces.jl:428\n",
      "  [6] plot!(::Scene, ::Type{Combined{Makie.contourf}}, ::Attributes, ::LinRange{Float64, Int64}, ::Vararg{Any}; kw_attributes::Base.Pairs{Symbol, Union{}, Tuple{}, NamedTuple{(), Tuple{}}})\n",
      "    @ Makie ~/.julia/packages/Makie/gQOQF/src/interfaces.jl:339\n",
      "  [7] plot!(::Scene, ::Type{Combined{Makie.contourf}}, ::Attributes, ::LinRange{Float64, Int64}, ::LinRange{Float64, Int64}, ::Matrix{Float64})\n",
      "    @ Makie ~/.julia/packages/Makie/gQOQF/src/interfaces.jl:308\n",
      "  [8] plot!(::Axis, ::Type{Combined{Makie.contourf}}, ::Attributes, ::LinRange{Float64, Int64}, ::Vararg{Any}; kw_attributes::Base.Pairs{Symbol, Union{}, Tuple{}, NamedTuple{(), Tuple{}}})\n",
      "    @ Makie.MakieLayout ~/.julia/packages/Makie/gQOQF/src/makielayout/layoutables/axis.jl:658\n",
      "  [9] plot!(::Axis, ::Type{Combined{Makie.contourf}}, ::Attributes, ::LinRange{Float64, Int64}, ::LinRange{Float64, Int64}, ::Matrix{Float64})\n",
      "    @ Makie.MakieLayout ~/.julia/packages/Makie/gQOQF/src/makielayout/layoutables/axis.jl:653\n",
      " [10] plot!(::Type{Combined{Makie.contourf}}, ::Axis, ::LinRange{Float64, Int64}, ::Vararg{Any}; kw_attributes::Base.Pairs{Symbol, Union{}, Tuple{}, NamedTuple{(), Tuple{}}})\n",
      "    @ Makie.MakieLayout ~/.julia/packages/Makie/gQOQF/src/makielayout/layoutables/axis.jl:670\n",
      " [11] plot!(::Type{Combined{Makie.contourf}}, ::Axis, ::LinRange{Float64, Int64}, ::LinRange{Float64, Int64}, ::Matrix{Float64})\n",
      "    @ Makie.MakieLayout ~/.julia/packages/Makie/gQOQF/src/makielayout/layoutables/axis.jl:669\n",
      " [12] contourf!(::Axis, ::Vararg{Any}; attributes::Base.Pairs{Symbol, Union{}, Tuple{}, NamedTuple{(), Tuple{}}})\n",
      "    @ Makie ~/.julia/packages/MakieCore/S8PkO/src/recipes.jl:35\n",
      " [13] contourf!(::Axis, ::Vararg{Any})\n",
      "    @ Makie ~/.julia/packages/MakieCore/S8PkO/src/recipes.jl:35\n",
      " [14] top-level scope\n",
      "    @ ~/Documents/my_projects/excss-physics/probability/04-multivariate-distributions.ipynb:12\n",
      " [15] eval\n",
      "    @ ./boot.jl:373 [inlined]\n",
      " [16] include_string(mapexpr::typeof(REPL.softscope), mod::Module, code::String, filename::String)\n",
      "    @ Base ./loading.jl:1196\n",
      " [17] #invokelatest#2\n",
      "    @ ./essentials.jl:716 [inlined]\n",
      " [18] invokelatest\n",
      "    @ ./essentials.jl:714 [inlined]\n",
      " [19] (::VSCodeServer.var\"#150#151\"{VSCodeServer.NotebookRunCellArguments, String})()\n",
      "    @ VSCodeServer ~/.vscode/extensions/julialang.language-julia-1.5.6/scripts/packages/VSCodeServer/src/serve_notebook.jl:18\n",
      " [20] withpath(f::VSCodeServer.var\"#150#151\"{VSCodeServer.NotebookRunCellArguments, String}, path::String)\n",
      "    @ VSCodeServer ~/.vscode/extensions/julialang.language-julia-1.5.6/scripts/packages/VSCodeServer/src/repl.jl:185\n",
      " [21] notebook_runcell_request(conn::VSCodeServer.JSONRPC.JSONRPCEndpoint{Base.PipeEndpoint, Base.PipeEndpoint}, params::VSCodeServer.NotebookRunCellArguments)\n",
      "    @ VSCodeServer ~/.vscode/extensions/julialang.language-julia-1.5.6/scripts/packages/VSCodeServer/src/serve_notebook.jl:14\n",
      " [22] dispatch_msg(x::VSCodeServer.JSONRPC.JSONRPCEndpoint{Base.PipeEndpoint, Base.PipeEndpoint}, dispatcher::VSCodeServer.JSONRPC.MsgDispatcher, msg::Dict{String, Any})\n",
      "    @ VSCodeServer.JSONRPC ~/.vscode/extensions/julialang.language-julia-1.5.6/scripts/packages/JSONRPC/src/typed.jl:67\n",
      " [23] serve_notebook(pipename::String; crashreporting_pipename::String)\n",
      "    @ VSCodeServer ~/.vscode/extensions/julialang.language-julia-1.5.6/scripts/packages/VSCodeServer/src/serve_notebook.jl:94\n",
      " [24] top-level scope\n",
      "    @ ~/.vscode/extensions/julialang.language-julia-1.5.6/scripts/notebook/notebook.jl:12\n",
      " [25] include(mod::Module, _path::String)\n",
      "    @ Base ./Base.jl:418\n",
      " [26] exec_options(opts::Base.JLOptions)\n",
      "    @ Base ./client.jl:292\n",
      " [27] _start()\n",
      "    @ Base ./client.jl:495"
     ]
    }
   ],
   "source": [
    "Random.seed!(42);\n",
    "mu_x = 0;\n",
    "sigma_x = 7;\n",
    "mu_y = 0;\n",
    "sigma_y = 15;\n",
    "d_mvnorm2= MvNormal([mu_x, mu_y], [sigma_x 0; 0 sigma_y]);\n",
    "z2 = [pdf(d_mvnorm2, [i, j]) for i ∈ x, j ∈ y];\n",
    "\n",
    "fig = Figure(resolution = (550, 400));\n",
    "ax = Axis(fig[1, 1])\n",
    "\n",
    "contourf!(ax, x, y, z2)\n",
    "fig"
   ]
  }
 ],
 "metadata": {
  "kernelspec": {
   "display_name": "Julia 1.7.0",
   "language": "julia",
   "name": "julia-1.7"
  },
  "language_info": {
   "file_extension": ".jl",
   "mimetype": "application/julia",
   "name": "julia",
   "version": "1.7.0"
  },
  "orig_nbformat": 4
 },
 "nbformat": 4,
 "nbformat_minor": 2
}
