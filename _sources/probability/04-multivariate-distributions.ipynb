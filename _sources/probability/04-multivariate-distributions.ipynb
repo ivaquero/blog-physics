{
 "cells": [
  {
   "cell_type": "markdown",
   "metadata": {},
   "source": [
    "# Multivariate Distributions"
   ]
  },
  {
   "cell_type": "code",
   "execution_count": null,
   "metadata": {},
   "outputs": [],
   "source": [
    "using Combinatorics\n",
    "using Distributions, Random"
   ]
  },
  {
   "cell_type": "code",
   "execution_count": null,
   "metadata": {},
   "outputs": [],
   "source": [
    "using GLMakie"
   ]
  },
  {
   "cell_type": "markdown",
   "metadata": {},
   "source": [
    "# Bivariate Normal Distribution\n"
   ]
  },
  {
   "cell_type": "markdown",
   "metadata": {},
   "source": [
    "The most prevalent _multivariate normal distribution_ is **bivariate normal distribution**\n",
    "\n",
    "$$\n",
    "\\begin{equation}\n",
    "f_\\mathbb{X}(x_1,...,x_2)=\\frac{1}{\\sqrt{(2π)^k|Σ|}}\\exp{\\Big(-\\frac{(x-μ)^TΣ^{-1}(x-μ)}{2}\\Big)}\n",
    "\\end{equation}\n",
    "$$\n"
   ]
  },
  {
   "cell_type": "markdown",
   "metadata": {},
   "source": [
    "There are two ways of formulating a multivariate normal distribution in Python, use any one you see fit.\n"
   ]
  },
  {
   "cell_type": "markdown",
   "metadata": {},
   "source": [
    "## 1st Method of Formulation"
   ]
  },
  {
   "cell_type": "code",
   "execution_count": null,
   "metadata": {},
   "outputs": [],
   "source": [
    "Random.seed!(42);\n",
    "mu_x = 0;\n",
    "sigma_x = 2;\n",
    "mu_y = 0;\n",
    "sigma_y = 2;\n",
    "\n",
    "d_mvnorm = MvNormal([mu_x, mu_y], [sigma_x 0; 0 sigma_y]);\n",
    "\n",
    "x = LinRange(-10, 10, 100);\n",
    "y = LinRange(-10, 10, 100);\n",
    "z = [pdf(d_mvnorm, [i, j]) for i ∈ x, j ∈ y];\n",
    "\n",
    "fig = Figure(resolution = (1000, 600));\n",
    "ax = Axis3(\n",
    "    fig[1, 1],\n",
    "    xlabel = \"X axis\",\n",
    "    ylabel = \"Y axis\",\n",
    "    zlabel = \"Z axis\",\n",
    "    title = \"Bivariate Normal Distribution\"\n",
    ");\n",
    "\n",
    "surface!(ax, x, y, z);\n",
    "\n",
    "fig"
   ]
  },
  {
   "cell_type": "markdown",
   "metadata": {},
   "source": [
    "## 2nd Method of Formulation"
   ]
  },
  {
   "cell_type": "code",
   "execution_count": null,
   "metadata": {},
   "outputs": [],
   "source": [
    "Random.seed!(42);\n",
    "mu_x = 0;\n",
    "sigma_x = 7;\n",
    "mu_y = 0;\n",
    "sigma_y = 15;\n",
    "d_mvnorm2= MvNormal([mu_x, mu_y], [sigma_x 0; 0 sigma_y]);\n",
    "z2 = [pdf(d_mvnorm2, [i, j]) for i ∈ x, j ∈ y];\n",
    "\n",
    "fig = Figure(resolution = (550, 400));\n",
    "ax = Axis(fig[1, 1])\n",
    "\n",
    "contourf!(ax, x, y, z2)\n",
    "fig"
   ]
  }
 ],
 "metadata": {
  "kernelspec": {
   "display_name": "Julia 1.7.0",
   "language": "julia",
   "name": "julia-1.7"
  },
  "language_info": {
   "file_extension": ".jl",
   "mimetype": "application/julia",
   "name": "julia",
   "version": "1.7.0"
  },
  "orig_nbformat": 4
 },
 "nbformat": 4,
 "nbformat_minor": 2
}
