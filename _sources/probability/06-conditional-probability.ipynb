{
 "cells": [
  {
   "cell_type": "markdown",
   "metadata": {},
   "source": [
    "# Conditional Probability"
   ]
  },
  {
   "cell_type": "code",
   "execution_count": 1,
   "metadata": {},
   "outputs": [],
   "source": [
    "using Combinatorics\n",
    "using Distributions, Random"
   ]
  },
  {
   "cell_type": "code",
   "execution_count": 2,
   "metadata": {},
   "outputs": [],
   "source": [
    "using DataFrames"
   ]
  },
  {
   "cell_type": "code",
   "execution_count": 3,
   "metadata": {},
   "outputs": [],
   "source": [
    "using CairoMakie"
   ]
  },
  {
   "cell_type": "markdown",
   "metadata": {},
   "source": [
    "The probability of A given B, so called **conditional probability**, defined as:\n",
    "\n",
    "$$\n",
    "\\begin{equation}\n",
    "\\frac{P(A∩ B)}{P(B)}=P(A|B)\n",
    "\\end{equation}\n",
    "$$\n",
    "\n",
    "It is best to be demonstrated by a joint probability table, which is essentially a discrete numeric form of 3D distribution. "
   ]
  },
  {
   "cell_type": "markdown",
   "metadata": {},
   "source": [
    "From conditional probability it is straightforward to deduct **multiplication law**, simply rearrange the formula\n",
    "\n",
    "$$\n",
    "P(A|B)P(B) = P(A ∩ B)\\\\\n",
    "P(B|A)P(A) = P(B ∩ A)\n",
    "$$"
   ]
  },
  {
   "cell_type": "markdown",
   "metadata": {},
   "source": [
    "Two events $A$ and $B$ are independent if\n",
    "\n",
    "$$\n",
    "P(A|B)=P(A)\\\\\n",
    "P(B|A)=P(B)\n",
    "$$\n",
    "\n",
    "Otherwise, the events are dependent.\n",
    "\n",
    "Then the **independent multiplication law** indicates\n",
    "\n",
    "$$\n",
    "P(A)P(B)=P(A∩ B)\\\\\n",
    "P(B)P(A)=P(B∩ A)\n",
    "$$"
   ]
  }
 ],
 "metadata": {
  "kernelspec": {
   "display_name": "Julia 1.7.0",
   "language": "julia",
   "name": "julia-1.7"
  },
  "language_info": {
   "file_extension": ".jl",
   "mimetype": "application/julia",
   "name": "julia",
   "version": "1.7.0"
  },
  "orig_nbformat": 4
 },
 "nbformat": 4,
 "nbformat_minor": 2
}
