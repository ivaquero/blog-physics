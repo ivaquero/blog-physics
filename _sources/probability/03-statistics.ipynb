{
 "cells": [
  {
   "cell_type": "markdown",
   "metadata": {},
   "source": [
    "# Statistics\n"
   ]
  },
  {
   "cell_type": "code",
   "execution_count": 1,
   "metadata": {
    "ExecuteTime": {
     "end_time": "2022-02-07T21:10:47.038000+08:00",
     "start_time": "2022-02-07T13:10:46.379Z"
    }
   },
   "outputs": [],
   "source": [
    "using Distributions, StatsBase"
   ]
  },
  {
   "cell_type": "code",
   "execution_count": 2,
   "metadata": {
    "ExecuteTime": {
     "end_time": "2022-02-07T21:10:47.114000+08:00",
     "start_time": "2022-02-07T13:10:46.380Z"
    }
   },
   "outputs": [],
   "source": [
    "using Random, Statistics"
   ]
  },
  {
   "cell_type": "code",
   "execution_count": 3,
   "metadata": {
    "ExecuteTime": {
     "end_time": "2022-02-07T21:10:50.297000+08:00",
     "start_time": "2022-02-07T13:10:46.381Z"
    }
   },
   "outputs": [],
   "source": [
    "using CairoMakie"
   ]
  },
  {
   "cell_type": "markdown",
   "metadata": {},
   "source": [
    "Before making any inferences from a dataset, it is crucial that we understand the features of datasets by 'describing' them. We can either describe them by graphing or calculating numerical summarisations.\n",
    "\n",
    "We will refresh most common descriptive statistics in this chapter, if you are working with data on a daily basis, no concepts here should sound strange to you.\n",
    "\n",
    "Furthermore, we will not engage in complex programming techniques, such as OOP and sophisticated data structures. All the programmes should be self-explanatory to most of audiences.\n"
   ]
  },
  {
   "cell_type": "markdown",
   "metadata": {},
   "source": [
    "# Histogram\n"
   ]
  },
  {
   "cell_type": "markdown",
   "metadata": {},
   "source": [
    "Strictly speaking, frequency distribution and histogram are different descriptive tools, though they are delivering the largely identical information. Frequency distribution are usually presented in a table, for instance, rolling a dice $1000$ times might give a us frequency distribution table as following:\n",
    "\n",
    "<table style=\"text-align:center; width:30%; text-align:center;font-size: 150% \">\n",
    "  <caption style = \"font-size: 110%\">Rolling A Dice 1000 Times</caption>\n",
    "  <tr>\n",
    "    <th>Sides</th>\n",
    "    <th>Frequency</th>\n",
    "  </tr>\n",
    "  <tr>\n",
    "    <td>1</td>\n",
    "    <td>172</td>\n",
    "  </tr>\n",
    "  <tr>\n",
    "    <td>2</td>\n",
    "    <td>158</td>\n",
    "  </tr>\n",
    "  <tr>\n",
    "    <td>3</td>\n",
    "    <td>170</td>\n",
    "  </tr>\n",
    "  <tr>\n",
    "    <td>4</td>\n",
    "    <td>158</td>\n",
    "  </tr>\n",
    "  <tr>\n",
    "    <td>5</td>\n",
    "    <td>187</td>\n",
    "  </tr>\n",
    "  <tr>\n",
    "    <td>6</td>\n",
    "    <td>155</td>\n",
    "  </tr>\n",
    "</table>\n"
   ]
  },
  {
   "cell_type": "markdown",
   "metadata": {},
   "source": [
    "Or we can draw a frequency histogram, which simply converts the information of table into a graph.\n"
   ]
  },
  {
   "cell_type": "code",
   "execution_count": 4,
   "metadata": {
    "ExecuteTime": {
     "end_time": "2022-02-07T21:11:14.619000+08:00",
     "start_time": "2022-02-07T13:10:46.382Z"
    }
   },
   "outputs": [
    {
     "data": {
      "image/png": "[encoded data removed]",
      "text/plain": [
       "Figure()"
      ]
     },
     "execution_count": 4,
     "metadata": {},
     "output_type": "execute_result"
    }
   ],
   "source": [
    "Random.seed!(42);\n",
    "rollings = rand(1:6, 1000);\n",
    "\n",
    "fig = Figure(resolution = (500, 400));\n",
    "ax = Axis(fig[1, 1], title = \"Frequency Histogram of 1000 Times of Rolling a Dice\");\n",
    "\n",
    "hist!(ax, rollings; bins = 6, strokewidth = 0.5, strokecolor = :black);\n",
    "fig"
   ]
  },
  {
   "cell_type": "markdown",
   "metadata": {},
   "source": [
    "Next we try generating an array from a standard normal distribution $x∼ N(0, 1)$, then plot the histogram.\n"
   ]
  },
  {
   "cell_type": "code",
   "execution_count": 5,
   "metadata": {
    "ExecuteTime": {
     "end_time": "2022-02-07T21:11:15.470000+08:00",
     "start_time": "2022-02-07T13:10:46.383Z"
    }
   },
   "outputs": [
    {
     "data": {
      "image/png": "[encoded data removed]",
      "text/plain": [
       "Figure()"
      ]
     },
     "execution_count": 5,
     "metadata": {},
     "output_type": "execute_result"
    }
   ],
   "source": [
    "Random.seed!(42);\n",
    "x = randn(1000);\n",
    "\n",
    "fig = Figure(resolution = (500, 400));\n",
    "ax = Axis(fig[1, 1]);\n",
    "\n",
    "hist =\n",
    "    hist!(ax, x; bins = 50, normalization = :pdf, strokewidth = 0.5, strokecolor = :black);\n",
    "fig\n"
   ]
  },
  {
   "cell_type": "code",
   "execution_count": 6,
   "metadata": {
    "ExecuteTime": {
     "end_time": "2022-02-07T21:11:15.580000+08:00",
     "start_time": "2022-02-07T13:10:46.384Z"
    }
   },
   "outputs": [
    {
     "data": {
      "text/plain": [
       "h_counts (generic function with 1 method)"
      ]
     },
     "execution_count": 6,
     "metadata": {},
     "output_type": "execute_result"
    }
   ],
   "source": [
    "function h_counts(pic)\n",
    "    vals = pic.plots[1][1] |> to_value\n",
    "    m = hcat(vals...) |> transpose\n",
    "    return m[:, 2]\n",
    "end\n"
   ]
  },
  {
   "cell_type": "markdown",
   "metadata": {},
   "source": [
    "The first charts below shows the same information as histogram, but with line plots rather than bars. But the second one is called \\*Empirical cumulative distribution**, it is empirical because it is not theoretically plotted, i.e. using a **cumulative distribution function (CDF)\\*\\*.\n"
   ]
  },
  {
   "cell_type": "code",
   "execution_count": 7,
   "metadata": {
    "ExecuteTime": {
     "end_time": "2022-02-07T21:11:17.996000+08:00",
     "start_time": "2022-02-07T13:10:46.385Z"
    }
   },
   "outputs": [],
   "source": [
    "hst_counts = h_counts(hist);\n",
    "\n",
    "fig = Figure(resolution = (500, 500));\n",
    "ax = Axis(fig[1, 1]);\n",
    "lines!(ax, 1:50, hst_counts);\n",
    "xlims!(ax, (0, 50));\n",
    "\n",
    "ax2 = Axis(fig[2, 1]);\n",
    "lines!(ax2, 1:50, cumsum(hst_counts));\n",
    "xlims!(ax2, (0, 50));\n",
    "fig"
   ]
  },
  {
   "cell_type": "markdown",
   "metadata": {},
   "source": [
    "# Measures of Location\n"
   ]
  },
  {
   "cell_type": "markdown",
   "metadata": {},
   "source": [
    "The most important **mean** we need is **arithmetic mean**, which is prevalent in all kinds of statistical techniques.\n",
    "\n",
    "$$\n",
    "μ = \\frac{1}{N}∑_{i=1}^Nx_i\\\\\n",
    "\\bar{x} = \\frac{1}{n}∑_{i=1}^nx_i\n",
    "$$\n",
    "\n",
    "The former one is _population mean_, the latter is _sample mean_. The formulae appear the same, but with different indication. $N$ is the population size, imagine the number of all human beings on earth, on the other hand, $n$ is sample size, for instance a sample of $1000$ persons from UK.\n",
    "\n",
    "And one tricky mean commonly used in finance is **geometric mean**, not so intuitive at first sight.\n",
    "\n",
    "$$\n",
    "g = \\bigg(∏_{i=1}^nx_i\\bigg)^{1/n}\n",
    "$$\n",
    "\n",
    "If you can't make sense out of it, accept a fact that geometric mean is commonly used when calculating _compound growth rates_, such as portfolio return. For instance, a portfolio manager has annual return recorded as below\n"
   ]
  },
  {
   "cell_type": "markdown",
   "metadata": {},
   "source": [
    "<table style=\"text-align:center; width:40%; text-align:center;font-size: 150% \">\n",
    "  <caption style = \"font-size: 110%\">Portfolio Return</caption>\n",
    "  <tr>\n",
    "    <th>Year</th>\n",
    "    <th>Return</th>\n",
    "  </tr>\n",
    "  <tr>\n",
    "    <td>2015</td>\n",
    "    <td>36%</td>\n",
    "  </tr>\n",
    "  <tr>\n",
    "    <td>2016</td>\n",
    "    <td>23%</td>\n",
    "  </tr>\n",
    "  <tr>\n",
    "    <td>2017</td>\n",
    "    <td>-48%</td>\n",
    "  </tr>\n",
    "  <tr>\n",
    "    <td>2018</td>\n",
    "    <td>-30%</td>\n",
    "  </tr>\n",
    "  <tr>\n",
    "    <td>2019</td>\n",
    "    <td>15%</td>\n",
    "  </tr>\n",
    "  <tr>\n",
    "    <td>2020</td>\n",
    "    <td>31%</td>\n",
    "  </tr>\n",
    "  <tr>\n",
    "    <td>Arithmetic Mean</td>\n",
    "    <td>4.5%</td>\n",
    "  </tr>\n",
    "  <tr>\n",
    "    <td>Geometric Mean</td>\n",
    "    <td>-1.4%</td>\n",
    "  </tr>\n",
    "</table>\n"
   ]
  },
  {
   "cell_type": "code",
   "execution_count": null,
   "metadata": {
    "ExecuteTime": {
     "end_time": "2022-02-07T21:11:17.998000+08:00",
     "start_time": "2022-02-07T13:10:46.386Z"
    }
   },
   "outputs": [],
   "source": [
    "percent(x::Float64; d::Int64 = 2) = round(100x; digits = d);\n"
   ]
  },
  {
   "cell_type": "markdown",
   "metadata": {},
   "source": [
    "The arithmetic mean of return is $4.45\\%$.\n"
   ]
  },
  {
   "cell_type": "code",
   "execution_count": null,
   "metadata": {
    "ExecuteTime": {
     "end_time": "2022-02-07T21:11:18.127000+08:00",
     "start_time": "2022-02-07T13:10:46.386Z"
    }
   },
   "outputs": [
    {
     "data": {
      "text/plain": [
       "4.5"
      ]
     },
     "execution_count": 9,
     "metadata": {},
     "output_type": "execute_result"
    }
   ],
   "source": [
    "portfolio_return = [0.36, 0.23, -0.48, -0.3, 0.15, 0.31]\n",
    "portfolio_return |> mean |> x -> percent(x; d = 3)\n"
   ]
  },
  {
   "cell_type": "markdown",
   "metadata": {},
   "source": [
    "However the geometric mean of return is $-1.42\\%$. Geometric mean is more accurate measurement when considering the compound effect, i.e. the data are related to each other by a growth rate.\n"
   ]
  },
  {
   "cell_type": "code",
   "execution_count": null,
   "metadata": {
    "ExecuteTime": {
     "end_time": "2022-02-07T21:11:18.180000+08:00",
     "start_time": "2022-02-07T13:10:46.388Z"
    }
   },
   "outputs": [
    {
     "data": {
      "text/plain": [
       "-1.428"
      ]
     },
     "execution_count": 10,
     "metadata": {},
     "output_type": "execute_result"
    }
   ],
   "source": [
    "(((portfolio_return .+ 1) |> geomean) - 1) |> x -> percent(x; d = 3)\n"
   ]
  },
  {
   "cell_type": "markdown",
   "metadata": {},
   "source": [
    "# Measures of Variability\n"
   ]
  },
  {
   "cell_type": "markdown",
   "metadata": {},
   "source": [
    "The first measurement of variability is the **range** measuring distance from lowest to highest. We'll generate an array of standard normal distribution for demonstration.\n"
   ]
  },
  {
   "cell_type": "code",
   "execution_count": null,
   "metadata": {
    "ExecuteTime": {
     "end_time": "2022-02-07T21:11:18.263000+08:00",
     "start_time": "2022-02-07T13:10:46.389Z"
    }
   },
   "outputs": [
    {
     "data": {
      "text/plain": [
       "5.729430988393148"
      ]
     },
     "execution_count": 11,
     "metadata": {},
     "output_type": "execute_result"
    }
   ],
   "source": [
    "Random.seed!(42);\n",
    "x = randn(50);\n",
    "rangeLS = max(x...) - min(x...);\n",
    "rangeLS"
   ]
  },
  {
   "cell_type": "markdown",
   "metadata": {},
   "source": [
    "**Percentile** is also a common statistic concept, which could be best explained by an example. For instance, the GRE test result shows percentile besides your absolute score, say you have a percentile of $96\\%$, it means your score is higher than $96\\%$ of candidates. The special percentile of $75\\%$ and $25\\%$ are sometimes called the _third quartile_ and _first quartile_.\n"
   ]
  },
  {
   "cell_type": "code",
   "execution_count": null,
   "metadata": {
    "ExecuteTime": {
     "end_time": "2022-02-07T21:11:18.316000+08:00",
     "start_time": "2022-02-07T13:10:46.390Z"
    }
   },
   "outputs": [
    {
     "data": {
      "text/plain": [
       "1.1594399713200514"
      ]
     },
     "execution_count": 12,
     "metadata": {},
     "output_type": "execute_result"
    }
   ],
   "source": [
    "q75, q25 = quantile(x, [0.75, 0.25]);\n",
    "q75 - q25"
   ]
  },
  {
   "cell_type": "markdown",
   "metadata": {},
   "source": [
    "Before moving any further, we must clarify two statistical concepts: **population** and **sample**. For example, we want to know the variance of all human adults height, therefore we ought to measure all adults (population) on earth in order to calculate the variance, however the mission is impossible, instead we measure a smaller group of adults (sample) to make inferential statements about population.\n",
    "\n",
    "Population and sample variance differ in degree of freedom, where $N$ is the population size, whereas $n$ is the sample size, $μ$ is the population mean and $\\bar{x}$ is the sample mean. The formulae of variances are\n",
    "\n",
    "$$\n",
    "σ^2 = \\frac{∑(x_i - μ)^2}{N}\\\\\n",
    "s^2 = \\frac{∑(x_i - \\bar{x})^2}{n-1}\n",
    "$$\n",
    "\n",
    "The latter is an unbiased estimator of population variance, which is also the _sample variance_.\n",
    "\n",
    "To illustrate the idea, let's pretend there are only $N = 1000$ people on earth, we can generate an array to represent the population height, only for demonstrative purpose. We generate a population by $X∼ N(170, 10)$, then calculate the population variance.\n"
   ]
  },
  {
   "cell_type": "code",
   "execution_count": null,
   "metadata": {
    "ExecuteTime": {
     "end_time": "2022-02-07T21:11:18.384000+08:00",
     "start_time": "2022-02-07T13:10:46.391Z"
    }
   },
   "outputs": [
    {
     "name": "stdout",
     "output_type": "stream",
     "text": [
      "170.63417586073794\n",
      "94.3196994455534\n"
     ]
    }
   ],
   "source": [
    "Random.seed!(42);\n",
    "d_normal = Normal(170, 10);\n",
    "\n",
    "population_height = rand(d_normal, 1000);\n",
    "population_height |> mean |> println\n",
    "population_height |> var |> println"
   ]
  },
  {
   "cell_type": "markdown",
   "metadata": {},
   "source": [
    "Now suppose we know nothing about the population, but we can get a sample of 100 persons.\n"
   ]
  },
  {
   "cell_type": "code",
   "execution_count": null,
   "metadata": {
    "ExecuteTime": {
     "end_time": "2022-02-07T21:11:18.417000+08:00",
     "start_time": "2022-02-07T13:10:46.391Z"
    }
   },
   "outputs": [
    {
     "name": "stdout",
     "output_type": "stream",
     "text": [
      "169.76337820069224\n",
      "79.83496754314946\n",
      "79.83496754314946\n"
     ]
    }
   ],
   "source": [
    "Random.seed!(42);\n",
    "sample_height = rand(population_height, 100);\n",
    "\n",
    "sample_height |> mean |> println\n",
    "sample_height |> var |> println\n",
    "sample_height |> x -> varm(x, mean(sample_height)) |> println"
   ]
  },
  {
   "cell_type": "markdown",
   "metadata": {},
   "source": [
    "Theoretically, we can have tremendous amount of samples, say $10000$ samples. Yes, I mean $10000$ samples, not the sample size, but this is just a thought experiment, will never be achieved in real world. Again, pure demonstrative purpose.\n",
    "\n",
    "What we are doing next: generate $10000$ samples, calculate the sample variances, plot histogram. The vertical line is the mean of sampling distribution of variance estimates. We set standard deviation of $σ = 10$, the theoretical variance $σ^2=100$, therefore we see the point estimator is doing a fair well job.\n"
   ]
  },
  {
   "cell_type": "code",
   "execution_count": null,
   "metadata": {
    "ExecuteTime": {
     "end_time": "2022-02-07T21:11:19.459000+08:00",
     "start_time": "2022-02-07T13:10:46.392Z"
    }
   },
   "outputs": [
    {
     "data": {
      "image/png": "[encoded data removed]",
      "text/plain": [
       "Figure()"
      ]
     },
     "execution_count": 15,
     "metadata": {},
     "output_type": "execute_result"
    }
   ],
   "source": [
    "sample_height_array = Array{Float64}(undef, 10000)\n",
    "population_height_mean = mean(population_height);\n",
    "\n",
    "for i ∈ 1:10000\n",
    "    sample_height = rand(population_height, 100)\n",
    "    sample_height_array[i] = varm(sample_height, population_height_mean)\n",
    "end\n",
    "\n",
    "fig = Figure(resolution = (500, 400));\n",
    "ax = Axis(fig[1, 1], title = \"Sampling Distribution of Variance Estimates\")\n",
    "\n",
    "hist2 = hist!(ax, sample_height_array, bins = 50, strokewidth = 0.5, strokecolor = :black)\n",
    "vlines!(ax, mean(sample_height_array), color = :red)\n",
    "text!(\n",
    "    ax,\n",
    "    \"μ_σ = $(mean(sample_height_array) |> round)\",\n",
    "    position = (mean(sample_height_array) + 10, maximum(h_counts(hist2)) - 50),\n",
    ")\n",
    "fig"
   ]
  },
  {
   "cell_type": "markdown",
   "metadata": {},
   "source": [
    "I guess you have noticed the power of estimators now, if you have many samples, by using an unbiased sample estimator, you will get an accurate estimate of population parameters. Even if you have only one sample, you can still can estimate how possible you would be correct based on sampling distribution.\n"
   ]
  },
  {
   "cell_type": "markdown",
   "metadata": {},
   "source": [
    "But we shall keep in mind that **standard deviation** is the most popular measurement of variability. The population/sample standard deviation is simply the square root of variances respectively.\n"
   ]
  },
  {
   "cell_type": "markdown",
   "metadata": {},
   "source": [
    "$$\n",
    "σ = \\sqrt{σ^2}\\\\\n",
    "s = \\sqrt{s^2}\n",
    "$$\n"
   ]
  },
  {
   "cell_type": "markdown",
   "metadata": {},
   "source": [
    "Similar to variance function in NumPy.\n"
   ]
  },
  {
   "cell_type": "code",
   "execution_count": null,
   "metadata": {
    "ExecuteTime": {
     "end_time": "2022-02-07T21:11:19.467000+08:00",
     "start_time": "2022-02-07T13:10:46.393Z"
    }
   },
   "outputs": [
    {
     "data": {
      "text/plain": [
       "76.71374145156965"
      ]
     },
     "execution_count": 16,
     "metadata": {},
     "output_type": "execute_result"
    }
   ],
   "source": [
    "stdm(sample_height_array, population_height_mean)"
   ]
  },
  {
   "cell_type": "markdown",
   "metadata": {},
   "source": [
    "# Measures of Distribution Shape\n"
   ]
  },
  {
   "cell_type": "markdown",
   "metadata": {},
   "source": [
    "**z-score** is defined as below, used for measuring how many standard deviations away from the mean.\n",
    "\n",
    "$$\n",
    "\\begin{equation}\n",
    "z_i = \\frac{x_i-\\bar{x}}{s}\n",
    "\\end{equation}\n",
    "$$\n",
    "\n",
    "Note that $z$ has subscript notation $i$ which means each observation has its own $z$-score.\n",
    "\n",
    "<blockquote>Actually，measuring how many standard deviations away from the mean (or hypothesis) is the fundamental philosophy of frequentist statistics, it asks one important question: <i>how far away from the mean is far-away?</i> If it is far enough, very likely the <i>mean</i> we are looking at right now is not the 'real' mean of the random mechanism that generates the observation.</blockquote>\n",
    "\n",
    "Here is the example of calculating $z$-score for an randomly generated array. So you can see for a standard normal distribution, it would be fairly hard to stray $2$ standard deviations away.\n"
   ]
  },
  {
   "cell_type": "code",
   "execution_count": null,
   "metadata": {
    "ExecuteTime": {
     "end_time": "2022-02-07T21:11:25.273000+08:00",
     "start_time": "2022-02-07T13:10:46.394Z"
    }
   },
   "outputs": [
    {
     "data": {
      "image/png": "[encoded data removed]",
      "text/plain": [
       "Figure()"
      ]
     },
     "execution_count": 17,
     "metadata": {},
     "output_type": "execute_result"
    }
   ],
   "source": [
    "Random.seed!(42);\n",
    "x = randn(10);\n",
    "z = (x .- mean(x)) ./ std(x);\n",
    "\n",
    "fig = Figure(resolution = (500, 400));\n",
    "ax = Axis(fig[1, 1])\n",
    "hist!(\n",
    "    ax,\n",
    "    x,\n",
    "    strokewidth = 0.5,\n",
    "    color = (:orange, 0.4),\n",
    "    strokecolor = :black,\n",
    "    label = \"origenal\",\n",
    ");\n",
    "hist!(\n",
    "    ax,\n",
    "    z,\n",
    "    strokewidth = 0.5,\n",
    "    color = (\"#2E86C3\", 0.6),\n",
    "    strokecolor = :black,\n",
    "    label = \"standardized\",\n",
    ");\n",
    "axislegend(ax, position = :rt);\n",
    "fig"
   ]
  },
  {
   "cell_type": "markdown",
   "metadata": {},
   "source": [
    "## Chebyshev's Theorem\n"
   ]
  },
  {
   "cell_type": "markdown",
   "metadata": {},
   "source": [
    "**Chebyshev's Theorem** is used as the last resort of deduction when we have absolute _no knowledge_ of a sample and its distribution. It guarantees minimum proportion of data that must be within $z$ standard deviation from the mean, where the $z$ is $z$-score. But the downside of the theorem is that it only addresses the symmetric distribution.\n",
    "\n",
    "\\begin{equation}\n",
    "p ≥ 1-\\frac{1}{z^2}\n",
    "\\end{equation}\n",
    "\n",
    "For instance, the average height of people in Helsinki is $174cm$, with a standard deviation of of $4cm$, so the question is how many people (percentage) are within $166cm$ and $182cm$? Note that this range is symmetrically $2$ standard derivations away from its mean. Thus according to Chebyshev, we know that\n"
   ]
  },
  {
   "cell_type": "code",
   "execution_count": null,
   "metadata": {
    "ExecuteTime": {
     "end_time": "2022-02-07T21:11:25.274000+08:00",
     "start_time": "2022-02-07T13:10:46.395Z"
    }
   },
   "outputs": [
    {
     "data": {
      "text/plain": [
       "2.0"
      ]
     },
     "execution_count": 18,
     "metadata": {},
     "output_type": "execute_result"
    }
   ],
   "source": [
    "zₗ = (166 - 174) / 4 # lower z-score\n",
    "zᵤ = (182 - 174) / 4 # upper z-score\n"
   ]
  },
  {
   "cell_type": "markdown",
   "metadata": {},
   "source": [
    "Because it is a symmetric range, $z$-score on each sides are equal, we can calculate the probability as below and print the conclusion.\n"
   ]
  },
  {
   "cell_type": "code",
   "execution_count": null,
   "metadata": {
    "ExecuteTime": {
     "end_time": "2022-02-07T21:11:25.279000+08:00",
     "start_time": "2022-02-07T13:10:46.396Z"
    }
   },
   "outputs": [
    {
     "name": "stdout",
     "output_type": "stream",
     "text": [
      "At least 75.0% of people are within 168cm and 182cm in Helsinki."
     ]
    }
   ],
   "source": [
    "p = 1 - 1 / zₗ^2\n",
    "print(\"At least $(100p)% of people are within 168cm and 182cm in Helsinki.\")"
   ]
  },
  {
   "cell_type": "markdown",
   "metadata": {},
   "source": [
    "If you think of Chebyshev as a function, then the only variable is $z$-score. Now we define a Chebyshev function and plot it against $z$-score.\n",
    "\n",
    "Because $z$-score means how many standard deviation away from the mean, from the graph we could conclude that no matter what types of distributions we are investigating, it is guaranteed that $± 2.5$ standard deviation range would cover at least $84\\%$ of data.\n"
   ]
  },
  {
   "cell_type": "code",
   "execution_count": null,
   "metadata": {
    "ExecuteTime": {
     "end_time": "2022-02-07T21:11:25.279000+08:00",
     "start_time": "2022-02-07T13:10:46.397Z"
    }
   },
   "outputs": [],
   "source": [
    "chebyshev(z) = 1 - 1 / z^2;"
   ]
  },
  {
   "cell_type": "code",
   "execution_count": null,
   "metadata": {
    "ExecuteTime": {
     "end_time": "2022-02-07T21:11:26.822000+08:00",
     "start_time": "2022-02-07T13:10:46.398Z"
    }
   },
   "outputs": [
    {
     "data": {
      "image/png": "[encoded data removed]",
      "text/plain": [
       "Figure()"
      ]
     },
     "execution_count": 21,
     "metadata": {},
     "output_type": "execute_result"
    }
   ],
   "source": [
    "zscores = 1:0.5:20\n",
    "\n",
    "chebyshev_array = Array{Float64}(undef, length(zscores))\n",
    "\n",
    "for (ind, z) ∈ enumerate(zscores)\n",
    "    chebyshev_array[ind] = chebyshev(z)\n",
    "end\n",
    "\n",
    "fig = Figure(resolution = (500, 400));\n",
    "ax = Axis(\n",
    "    fig[1, 1],\n",
    "    title = \"Chebyshev's Theorem\",\n",
    "    xlabel = \"z-score\",\n",
    "    ylabel = \"Probability\",\n",
    ")\n",
    "\n",
    "lines!(ax, zscores, chebyshev_array)\n",
    "scatter!(ax, [2.5], [chebyshev(2.5)], color = :red)\n",
    "text!(ax, \"(2.5, $(chebyshev(2.5) * 100)%)\", position = (3.5, chebyshev(2.5) - 0.1))\n",
    "\n",
    "fig\n"
   ]
  },
  {
   "cell_type": "markdown",
   "metadata": {},
   "source": [
    "However in practice we are more likely to deal with data of (semi)bell-shape distribution, they are regular and easier to make deduction. So **Empirical Rules** apply.\n",
    "\n",
    "- 68% of data within 1 standard deviation of the mean\n",
    "- 95% of data within 2 standard deviation of the mean\n",
    "- 99.7% of data within 3 standard deviation of the mean\n",
    "\n",
    "These empirical numbers are from normal distribution.\n"
   ]
  },
  {
   "cell_type": "markdown",
   "metadata": {},
   "source": [
    "# Measures of Association\n"
   ]
  },
  {
   "cell_type": "markdown",
   "metadata": {},
   "source": [
    "With similar notation, the **population** and **sample covariance** is defined as:\n",
    "\n",
    "$$\n",
    "σ_{xy} \\frac{∑(x_i-μ_x)(y_i-μ_y)}{N}\\\\\n",
    "s_{xy} \\frac{∑(x_i-\\bar{x})(y_i-\\bar{y})}{n-1}\n",
    "$$\n"
   ]
  },
  {
   "cell_type": "markdown",
   "metadata": {},
   "source": [
    "Generate two random arrays, then evaluate a covariance matrix. The values on the diagonal presents the variance, the off-diagonal presents the covariance.\n"
   ]
  },
  {
   "cell_type": "code",
   "execution_count": null,
   "metadata": {
    "ExecuteTime": {
     "end_time": "2022-02-07T21:11:26.868000+08:00",
     "start_time": "2022-02-07T13:10:46.399Z"
    }
   },
   "outputs": [
    {
     "data": {
      "text/plain": [
       "-0.009355463476744815"
      ]
     },
     "execution_count": 22,
     "metadata": {},
     "output_type": "execute_result"
    }
   ],
   "source": [
    "Random.seed!(42);\n",
    "x = randn(300);\n",
    "y = rand(300);\n",
    "cov(x, y)"
   ]
  },
  {
   "cell_type": "markdown",
   "metadata": {},
   "source": [
    "**Correlation Coefficent** is normalized version of covariance, just like the standard deviation is the normalised variance, some statistics textbook calls it <i>Pearson Product Moment Correlation Coefficient</i>.\n",
    "\n",
    "$$\n",
    "ρ = \\frac{σ_{xy}}{σ_xσ_y}\\\\\n",
    "r_{xy}=\\frac{s_{xy}}{s_xs_y}\n",
    "$$\n"
   ]
  },
  {
   "cell_type": "markdown",
   "metadata": {},
   "source": [
    "For the sake of everyone's sanity, not to cluster the lecture notes with repetive codes, some of them were transported in to `plot_material.py` module. Take a look inside if you are curious.\n",
    "\n",
    "What we did below was basically generating eight linear regression plot $Y = β_1+β_2X+u$ with different parameters. The correlation coefficient $ρ$ is displayed in the graph, therefore you could observe that the correlation coefficients are affected by size of parameters $β_2$ and scale of error term.\n",
    "\n",
    "The reasons are:\n",
    "\n",
    "- The more significantly $β_2$ differs from $0$, the more siginificant linear relationship the model has, therefore the relatively larger correlation between $X$ and $Y$.\n",
    "- If the parameters $β_1$ and $β_2$ kept constant, the larger scale of the error term, the more dispersed the data are, therefore lower correlation as well.\n"
   ]
  },
  {
   "cell_type": "markdown",
   "metadata": {},
   "source": [
    "We will dive much deeper into linear regression in our econometrics training sessions.\n"
   ]
  }
 ],
 "metadata": {
  "kernelspec": {
   "display_name": "Julia 1.7.2",
   "language": "julia",
   "name": "julia-1.7"
  },
  "language_info": {
   "file_extension": ".jl",
   "mimetype": "application/julia",
   "name": "julia",
   "version": "1.7.2"
  },
  "toc": {
   "base_numbering": 1,
   "nav_menu": {},
   "number_sections": true,
   "sideBar": true,
   "skip_h1_title": false,
   "title_cell": "Table of Contents",
   "title_sidebar": "Contents",
   "toc_cell": false,
   "toc_position": {},
   "toc_section_display": true,
   "toc_window_display": true
  },
  "varInspector": {
   "cols": {
    "lenName": 16,
    "lenType": 16,
    "lenVar": 40
   },
   "kernels_config": {
    "python": {
     "delete_cmd_postfix": "",
     "delete_cmd_prefix": "del ",
     "library": "var_list.py",
     "varRefreshCmd": "print(var_dic_list())"
    },
    "r": {
     "delete_cmd_postfix": ") ",
     "delete_cmd_prefix": "rm(",
     "library": "var_list.r",
     "varRefreshCmd": "cat(var_dic_list()) "
    }
   },
   "types_to_exclude": [
    "module",
    "function",
    "builtin_function_or_method",
    "instance",
    "_Feature"
   ],
   "window_display": false
  }
 },
 "nbformat": 4,
 "nbformat_minor": 2
}
