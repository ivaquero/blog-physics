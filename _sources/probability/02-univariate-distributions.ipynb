{
 "cells": [
  {
   "cell_type": "markdown",
   "metadata": {},
   "source": [
    "# Univariate Distributions"
   ]
  },
  {
   "cell_type": "code",
   "execution_count": 1,
   "metadata": {},
   "outputs": [],
   "source": [
    "using Combinatorics\n",
    "using Distributions, Random"
   ]
  },
  {
   "cell_type": "code",
   "execution_count": 2,
   "metadata": {},
   "outputs": [],
   "source": [
    "using DataFrames"
   ]
  },
  {
   "cell_type": "code",
   "execution_count": 3,
   "metadata": {},
   "outputs": [],
   "source": [
    "using CairoMakie"
   ]
  },
  {
   "cell_type": "markdown",
   "metadata": {},
   "source": [
    "# Discrete distributions\n"
   ]
  },
  {
   "cell_type": "markdown",
   "metadata": {},
   "source": [
    "## Binomial Distribution\n"
   ]
  },
  {
   "cell_type": "markdown",
   "metadata": {},
   "source": [
    "The first one is binomial distribution, we will give a it more extensive coverage, other distributions have similar functions in Python.\n",
    "\n",
    "A binomial experiment has 4 features:\n",
    "\n",
    "- A sequence of $n$ identical trials, e.g. throwing darts\n",
    "- Only two outcomes are possible: _success_ or _failure_, e.g. hitting bullseye or not\n",
    "- The probability of success $p$ does not change from trial to trial\n",
    "- Trials are independent events, e.g. first throw doesn't affect the second throw\n"
   ]
  },
  {
   "cell_type": "markdown",
   "metadata": {},
   "source": [
    "The **probability mass function(PMF)** of binomial distribution is\n",
    "\n",
    "$$\n",
    "f(k, n, p) = C_k^n p^kq^{n-k}\n",
    "$$\n",
    "\n",
    "<p style=\"font-size:17px\">\n",
    "<p>\n",
    "\n",
    "<table style=\"text-align:center; width:50%; text-align:center;font-size: 110% \">\n",
    "  <tr>\n",
    "    <th>parameters</th>\n",
    "    <th>meaning</th>\n",
    "  </tr>\n",
    "  <tr>\n",
    "    <td>n</td>\n",
    "    <td>number of trials</td>\n",
    "  </tr>\n",
    "  <tr>\n",
    "    <td>k</td>\n",
    "    <td>number of specific outcome</td>\n",
    "  </tr>\n",
    "  <tr>\n",
    "    <td>p</td>\n",
    "    <td>probability of success</td>\n",
    "  </tr>\n",
    "  <tr>\n",
    "    <td>q</td>\n",
    "    <td>probability of failure</td>\n",
    "  </tr>\n",
    "</table>\n"
   ]
  },
  {
   "cell_type": "markdown",
   "metadata": {},
   "source": [
    "Here's a simple example.\n",
    "\n",
    "A personal banker might meet 50 people enquiring for loan monthly, empirically 30% of them has bad credit history. So calculate probability from 1 to 50 people has bad credit history, meaning calculate 1 person out of 50 has bad credit, 2 persons out of 50 have bad credit, so on so forth till 50 persons (all of them).\n"
   ]
  },
  {
   "cell_type": "markdown",
   "metadata": {},
   "source": [
    "Start from a single number could be more intuitive, what's probability that a personal banker to encounter exact $14$ persons of bad credit history in a month?\n"
   ]
  },
  {
   "cell_type": "code",
   "execution_count": 4,
   "metadata": {},
   "outputs": [
    {
     "data": {
      "text/plain": [
       "percent (generic function with 1 method)"
      ]
     },
     "execution_count": 4,
     "metadata": {},
     "output_type": "execute_result"
    }
   ],
   "source": [
    "percent(x::Float64; d::Int64=2) = round(100x; digits=d)"
   ]
  },
  {
   "cell_type": "code",
   "execution_count": 5,
   "metadata": {},
   "outputs": [
    {
     "name": "stdout",
     "output_type": "stream",
     "text": [
      "The prob of meeting 14 persons who has bad credit history is 11.89%."
     ]
    }
   ],
   "source": [
    "n = 50;\n",
    "k = 14;  # what is the prob that exact 14 ppl she met had bad credit history?\n",
    "b = factorial(big(n)) / (factorial(k) * factorial(big(n - k)));\n",
    "p = 0.3;\n",
    "f_binomial = b * p^k * (1 - p)^(n - k) |> Float64;\n",
    "\n",
    "print(\"The prob of meeting $k persons who has bad credit history is $(f_binomial |> percent)%.\")"
   ]
  },
  {
   "cell_type": "code",
   "execution_count": 6,
   "metadata": {},
   "outputs": [
    {
     "ename": "LoadError",
     "evalue": "MethodError: pdf(::Binomial{Float64}, ::UnitRange{Int64}) is ambiguous. Candidates:\n  pdf(d::Distribution{ArrayLikeVariate{N}}, x::AbstractArray{<:Real, M}) where {N, M} in Distributions at /Users/integzz/.julia/packages/Distributions/K939H/src/common.jl:249\n  pdf(d::UnivariateDistribution, X::AbstractArray) in Distributions at deprecated.jl:70\nPossible fix, define\n  pdf(::UnivariateDistribution, ::AbstractArray{T, M} where T<:Real) where M",
     "output_type": "error",
     "traceback": [
      "MethodError: pdf(::Binomial{Float64}, ::UnitRange{Int64}) is ambiguous. Candidates:\n  pdf(d::Distribution{ArrayLikeVariate{N}}, x::AbstractArray{<:Real, M}) where {N, M} in Distributions at /Users/integzz/.julia/packages/Distributions/K939H/src/common.jl:249\n  pdf(d::UnivariateDistribution, X::AbstractArray) in Distributions at deprecated.jl:70\nPossible fix, define\n  pdf(::UnivariateDistribution, ::AbstractArray{T, M} where T<:Real) where M",
      "",
      "Stacktrace:",
      " [1] top-level scope",
      "   @ In[6]:7",
      " [2] eval",
      "   @ ./boot.jl:373 [inlined]",
      " [3] include_string(mapexpr::typeof(REPL.softscope), mod::Module, code::String, filename::String)",
      "   @ Base ./loading.jl:1196"
     ]
    }
   ],
   "source": [
    "n = 50\n",
    "p = 0.3\n",
    "bad_credit_person = 1:51\n",
    "\n",
    "Random.seed!(42);\n",
    "d_binom = Binomial(n, p);\n",
    "pdf_binom = pdf(d_binom, bad_credit_person);\n",
    "\n",
    "fig = Figure(resolution=(500, 400))\n",
    "ax = Axis(\n",
    "    fig[1, 1],\n",
    "    xlabel=\"Number of Person who Has Bad Credit History\",\n",
    "    ylabel=\"Probability\",\n",
    "    title=\"The probability that from 1 to $n persons\\n who have bad credit history\"\n",
    ")\n",
    "\n",
    "lines!(ax, bad_credit_person, pdf_binom, color=:red)\n",
    "limits!(ax, 0, n, 0, 0.15)\n",
    "\n",
    "fig"
   ]
  },
  {
   "cell_type": "markdown",
   "metadata": {},
   "source": [
    "We could interpret the plot with straightforward observation:\n",
    "\n",
    "- Most likely the personal banker would encounter $10$ to $20$ persons who have bad credit history.\n",
    "- Encountering less than $5$ or more than $25$ person are less likely.\n",
    "- The highest possibility is to encounter $50× .03 = 15$ persons with bad credit.\n"
   ]
  },
  {
   "cell_type": "markdown",
   "metadata": {},
   "source": [
    "Next example we can formulate a question by using **cumulative probability distribution**.\n",
    "\n",
    "If a stock trader trades $n$ times a month, he has a $p%$ chance of winning the trade, find out the probability that he can win less than $k$ trades a month.\n"
   ]
  },
  {
   "cell_type": "code",
   "execution_count": 7,
   "metadata": {},
   "outputs": [
    {
     "name": "stdout",
     "output_type": "stream",
     "text": [
      "If a trader's winning rate is 55.0%, the probability of winning less than 12 times is 22.29% if he trades 20 per month.\n",
      "If a trader's winning rate is 55.0%, the probability of winning more than 12 times is 77.71% if he trades 20 per month.\n",
      "If a trader's winning rate is 55.0%, the probability of winning between 14 and 4 times is 44.67% if he trades 20 per month.\n"
     ]
    }
   ],
   "source": [
    "n = 20;\n",
    "p = 0.55;\n",
    "k = 12;\n",
    "k1, k2 = 14, 4;\n",
    "\n",
    "win_less = cdf(d_binom, k);\n",
    "win_more = 1 - cdf(d_binom, k);\n",
    "win_betw = cdf(d_binom, k1) - cdf(d_binom, k2);\n",
    "\n",
    "println(\n",
    "    \"If a trader's winning rate is $(p |> percent)%, the probability of winning less than $k times is $(win_less |> percent)% if he trades $n per month.\"\n",
    ")\n",
    "println(\n",
    "    \"If a trader's winning rate is $(p |> percent)%, the probability of winning more than $k times is $(win_more |> percent)% if he trades $n per month.\"\n",
    ")\n",
    "println(\n",
    "    \"If a trader's winning rate is $(p |> percent)%, the probability of winning between $k1 and $k2 times is $(win_betw |> percent)% if he trades $n per month.\"\n",
    ")"
   ]
  },
  {
   "cell_type": "markdown",
   "metadata": {},
   "source": [
    "What if the probability of wining changing from 0.1 to 0.8, what is the probability that he wins less than 6 trades, assuming every month he trades 20 times.\n"
   ]
  },
  {
   "cell_type": "code",
   "execution_count": 8,
   "metadata": {},
   "outputs": [
    {
     "data": {
      "text/html": [
       "<div class=\"data-frame\"><p>5 rows × 2 columns</p><table class=\"data-frame\"><thead><tr><th></th><th>win_rate</th><th>win_less</th></tr><tr><th></th><th title=\"Float64\">Float64</th><th title=\"Float64\">Float64</th></tr></thead><tbody><tr><th>1</th><td>0.1</td><td>0.997614</td></tr><tr><th>2</th><td>0.15</td><td>0.978065</td></tr><tr><th>3</th><td>0.2</td><td>0.913307</td></tr><tr><th>4</th><td>0.25</td><td>0.785782</td></tr><tr><th>5</th><td>0.3</td><td>0.60801</td></tr></tbody></table></div>"
      ],
      "text/latex": [
       "\\begin{tabular}{r|cc}\n",
       "\t& win\\_rate & win\\_less\\\\\n",
       "\t\\hline\n",
       "\t& Float64 & Float64\\\\\n",
       "\t\\hline\n",
       "\t1 & 0.1 & 0.997614 \\\\\n",
       "\t2 & 0.15 & 0.978065 \\\\\n",
       "\t3 & 0.2 & 0.913307 \\\\\n",
       "\t4 & 0.25 & 0.785782 \\\\\n",
       "\t5 & 0.3 & 0.60801 \\\\\n",
       "\\end{tabular}\n"
      ],
      "text/plain": [
       "\u001b[1m5×2 DataFrame\u001b[0m\n",
       "\u001b[1m Row \u001b[0m│\u001b[1m win_rate \u001b[0m\u001b[1m win_less \u001b[0m\n",
       "\u001b[1m     \u001b[0m│\u001b[90m Float64  \u001b[0m\u001b[90m Float64  \u001b[0m\n",
       "─────┼────────────────────\n",
       "   1 │     0.1   0.997614\n",
       "   2 │     0.15  0.978065\n",
       "   3 │     0.2   0.913307\n",
       "   4 │     0.25  0.785782\n",
       "   5 │     0.3   0.60801"
      ]
     },
     "execution_count": 8,
     "metadata": {},
     "output_type": "execute_result"
    }
   ],
   "source": [
    "Random.seed!(42);\n",
    "\n",
    "win_rates = 0.1:0.05:0.81\n",
    "n = 20;\n",
    "p_new = 6;\n",
    "\n",
    "win_lesses = Array{Float64}([]);\n",
    "\n",
    "for win_rate ∈ win_rates\n",
    "    d_binom2 = Binomial(n, win_rate)\n",
    "    win_less = cdf(d_binom2, p_new)\n",
    "    push!(win_lesses, win_less)\n",
    "end\n",
    "\n",
    "df = DataFrame(win_rate=win_rates, win_less=win_lesses);\n",
    "df |> x -> first(x, 5)"
   ]
  },
  {
   "cell_type": "markdown",
   "metadata": {},
   "source": [
    "According to the table above, if the trader has at least $60\\%$ winning rate, merely $0.6\\%$ probability that he wins less then $6$ trades. Marginally higher winning rates are even important for traders in the short run.\n"
   ]
  },
  {
   "cell_type": "code",
   "execution_count": 9,
   "metadata": {},
   "outputs": [],
   "source": [
    "# This point means that if the winning rate is 40%,\\n then the probability of winning less\\n than 6 trades is 25%.\n",
    "\n",
    "fig = Figure(resolution=(500, 400))\n",
    "ax = Axis(\n",
    "    fig[1, 1],\n",
    "    xlabel=\"Winning Rate\",\n",
    "    ylabel=\"Probabilit of winning Less than 6 trades\",\n",
    ")\n",
    "\n",
    "scatter!(ax, win_rates, win_lesses)\n",
    "limits!(ax, 0.05, 0.85, -0.05, 1.05)\n",
    "\n",
    "fig"
   ]
  },
  {
   "cell_type": "markdown",
   "metadata": {},
   "source": [
    "### Binomial Random Variable Generator\n"
   ]
  },
  {
   "cell_type": "code",
   "execution_count": null,
   "metadata": {},
   "outputs": [],
   "source": [
    "Random.seed!(42);\n",
    "n = 100;\n",
    "p = 0.3;\n",
    "d_binom3 = Binomial(n, p);\n",
    "rvs_binom = rand(d_binom3, 10000);"
   ]
  },
  {
   "cell_type": "code",
   "execution_count": null,
   "metadata": {},
   "outputs": [],
   "source": [
    "fig = Figure(resolution = (500, 400));\n",
    "ax = Axis(fig[1, 1], title = \"Generated Binomial R.V.s\");\n",
    "\n",
    "hist!(ax, rvs_binom; bins = 160);\n",
    "vlines!(\n",
    "    ax,\n",
    "    30,\n",
    "    color = :red,\n",
    "    linestyle = :dash,\n",
    "    linewidth = 3,\n",
    "    label = \"theoretical\\nhighest draw (p×n)\",\n",
    ")\n",
    "\n",
    "limits!(ax, 10, 50, 0, 1000);\n",
    "axislegend(ax, position = :rt, labelsize = 12);\n",
    "fig"
   ]
  },
  {
   "cell_type": "markdown",
   "metadata": {},
   "source": [
    "When $n → ∞$ and $p → 0$，a binomial distribution approaches a **Poisson distribution** asymptotically, i.e. when $n$ is large and $p$ is small, we can use Poisson to approximate Binomial.\n",
    "\n",
    "Again with trader's example, if a trader has $1/1000$ probability to encounter a 'wiped-out' in each trade (assume each trade is independent, actually not), and trades $20$ times per month, what is the probability that the trader will encounter twice 'wiped-out' within 5 years?\n",
    "\n",
    "This problem can be solved by Binomial, the formulation as below\n",
    "\n",
    "$$\n",
    "\\text{trades} = 20× 12× 5=1200\n",
    "$$\n",
    "\n",
    "$$\n",
    "P(x=2) = \\binom{1200}{2}\\Big(\\frac{1}{1000}\\Big)^2\\Big(\\frac{999}{1000}\\Big)^{1198}\n",
    "$$\n"
   ]
  },
  {
   "cell_type": "markdown",
   "metadata": {},
   "source": [
    "As we mentioned, Poisson is the limit version of Binomial, it is a suitable case to use, calculate $λ$\n",
    "\n",
    "$$\n",
    "\\begin{equation}\n",
    "λ = np = 1200 × \\frac{1}{1000} = 1.2\n",
    "\\end{equation}\n",
    "$$\n",
    "\n",
    "it means every 5 years, there is in average 1.2 times of chance to get wiped out.\n",
    "\n",
    "$$\n",
    "\\begin{equation}\n",
    "P(x=2)=\\frac{λ^ke^{-λ}}{k!}=\\frac{1.2^2e^{-1.2}}{2!}\n",
    "\\end{equation}\n",
    "$$\n"
   ]
  },
  {
   "cell_type": "code",
   "execution_count": null,
   "metadata": {},
   "outputs": [],
   "source": [
    "Random.seed!(42);\n",
    "k = 2;\n",
    "n = 20 * 12 * 5;  # 20 times per month, and 5 years span\n",
    "p = 1 / 1000;\n",
    "λ = p * n;\n",
    "\n",
    "d_poisson = Poisson(λ);\n",
    "pmf_poisson = pdf(d_poisson, k);\n",
    "\n",
    "print(\n",
    "    \"The probability of having $k wiped-out shock(s) in a span of 5 years is $(pmf_poisson |> percent)%.\"\n",
    ")"
   ]
  },
  {
   "cell_type": "markdown",
   "metadata": {},
   "source": [
    "You probably have notices that Binomial and Poisson provide the same answer.\n",
    "\n",
    "Similarly what's the probability of having more than $k$ times wiped-out?\n"
   ]
  },
  {
   "cell_type": "code",
   "execution_count": null,
   "metadata": {},
   "outputs": [],
   "source": [
    "k = 2;\n",
    "sf_poisson = ccdf(d_poisson, k);\n",
    "\n",
    "print(\n",
    "    \"The probability of having more than $k BS shock in 5 years is $(sf_poisson |> percent)%.\"\n",
    ")"
   ]
  },
  {
   "cell_type": "markdown",
   "metadata": {},
   "source": [
    "### Poisson Random Variable Generator\n"
   ]
  },
  {
   "cell_type": "code",
   "execution_count": null,
   "metadata": {},
   "outputs": [],
   "source": [
    "Random.seed!(42);\n",
    "rvs_poisson = rand(d_poisson, 1000);\n",
    "\n",
    "fig = Figure(resolution=(500, 400));\n",
    "ax = Axis(fig[1, 1], title=\"Generated Poisson R.V.s\");\n",
    "\n",
    "hist!(ax, rvs_poisson; bins=10, strokewidth=1, strokecolor=:black);\n",
    "limits!(ax, -0.5, 6.5, 0, 400);\n",
    "fig"
   ]
  },
  {
   "cell_type": "markdown",
   "metadata": {},
   "source": [
    "## Geometric Distribution\n"
   ]
  },
  {
   "cell_type": "markdown",
   "metadata": {},
   "source": [
    "The PMF of **Geometric Distribution** is\n",
    "\n",
    "$$\n",
    "f(k)=p(1-p)^k\n",
    "$$\n",
    "\n",
    "where $k ∈  \\mathbb{Z}^+$ is a number of failures before first success, and $p$ is the probability of success.\n",
    "\n",
    "Geometric Distribution is to model the solutions to questions: '_How many times you have to fail in order to embrace the initial success?_'\n",
    "\n",
    "If you are shooting basketball to the basket, your success rate is $30\\%$, what's the probability of first success after $k$ times of trials?\n"
   ]
  },
  {
   "cell_type": "code",
   "execution_count": null,
   "metadata": {},
   "outputs": [],
   "source": [
    "Random.seed!(42);\n",
    "k = 5;\n",
    "p = 0.3;\n",
    "d_geom = Geometric(p);\n",
    "pmf_geom = pdf(d_geom, k);\n",
    "\n",
    "print(\n",
    "    \"The probability of observing exact $k times of failures trials before first success is $(pmf_geom |> percent)%.\"\n",
    ")"
   ]
  },
  {
   "cell_type": "markdown",
   "metadata": {},
   "source": [
    "Again, CDF could answer the a question: _What's the probability of observing $k$ or less than $k$ times of failure before the first success?_\n"
   ]
  },
  {
   "cell_type": "code",
   "execution_count": null,
   "metadata": {},
   "outputs": [],
   "source": [
    "cdf_geom = cdf(d_geom, k + 1);\n",
    "\n",
    "print(\n",
    "    \"The probability of observing $k or fewer than $k times of failure before a first success is $(cdf_geom |> percent).\"\n",
    ")"
   ]
  },
  {
   "cell_type": "code",
   "execution_count": null,
   "metadata": {},
   "outputs": [],
   "source": [
    "Random.seed!(42);\n",
    "rvs_geom = rand(d_geom, 10000);\n",
    "\n",
    "fig = Figure(resolution=(500, 400))\n",
    "ax = Axis(fig[1, 1], title=\"Generated Geometric R.V.s\")\n",
    "\n",
    "hist!(ax, rvs_geom; bins=30, strokewidth=1, strokecolor=:black)\n",
    "limits!(ax, -0.5, 20.5, 0, 3100)\n",
    "fig"
   ]
  },
  {
   "cell_type": "markdown",
   "metadata": {},
   "source": [
    "## Hypergeometric Distribution\n"
   ]
  },
  {
   "cell_type": "markdown",
   "metadata": {},
   "source": [
    "The main difference between hypergeometric and binomial is that the former's sampling is not independent of each other, i.e. the sampling is **without replacement**.\n",
    "\n",
    "The PMF of hypergeometric is\n",
    "\n",
    "$$\n",
    "f(x) =\\frac{{K\\choose k} {N-K \\choose n-k}}{{N\\choose n}}\n",
    "$$\n",
    "\n",
    "Read the PMF with this example: $100$ people live in a building, $20$ of them are stashing drugs, $80$ are clean, but we don't have information who is clean or not. In one field operation, police took away $5$ persons form the building, what is the probability of having exact $2$ persons .are drug stasher?\n",
    "\n",
    "Solution:\n",
    "\n",
    "$$\n",
    "\\frac{{20\\choose2}{80\\choose3}}{{100\\choose5}}\n",
    "$$\n"
   ]
  },
  {
   "cell_type": "code",
   "execution_count": null,
   "metadata": {},
   "outputs": [],
   "source": [
    "Random.seed!(42);\n",
    "k = 2;\n",
    "n = 5;\n",
    "K = 20;\n",
    "N = 100;\n",
    "d_hgeom = Hypergeometric(K, N - K, n);\n",
    "pmf_hgeom = pdf(d_hgeom, k);\n",
    "\n",
    "print(\n",
    "    \"The probability of getting $k drug stashers by taking $n persons away is $(pmf_hgeom |> percent)%.\"\n",
    ")"
   ]
  },
  {
   "cell_type": "markdown",
   "metadata": {},
   "source": [
    "A histogram would provide some intuitions of geometric distribution.\n",
    "\n",
    "It can be interpreted as: if 100 persons in the building, 20 are drug stasher, take 5 out of 100. The probability of getting from 1 to 5 drug stashers, is shown in the chart. As we can see it is nearly impossible to get 4 or 5 drugs stasher. But getting one is the most possible outcome\n"
   ]
  },
  {
   "cell_type": "code",
   "execution_count": null,
   "metadata": {},
   "outputs": [],
   "source": [
    "Random.seed!(42);\n",
    "rvs_hgeom = rand(d_hgeom, 10000);\n",
    "\n",
    "fig = Figure(resolution=(500, 400))\n",
    "ax = Axis(fig[1, 1], title=\"Generated Hypergeometric R.V.s\")\n",
    "\n",
    "hist!(ax, rvs_hgeom; normalization=:pdf, strokewidth=1, strokecolor=:black)\n",
    "limits!(ax, -0.5, 4.5, 0, 1.5)\n",
    "fig"
   ]
  },
  {
   "cell_type": "markdown",
   "metadata": {},
   "source": [
    "## Discrete Uniform Distribution\n"
   ]
  },
  {
   "cell_type": "markdown",
   "metadata": {},
   "source": [
    "Rolling a die is the simplest **discrete uniform distribution** generator from $1$ to $6$.\n"
   ]
  },
  {
   "cell_type": "code",
   "execution_count": null,
   "metadata": {},
   "outputs": [],
   "source": [
    "Random.seed!(42);\n",
    "l, h = 1, 7;\n",
    "d_uniform = Uniform(l, h);\n",
    "rvs_uniform = rand(d_uniform, 1000);\n",
    "\n",
    "fig = Figure(resolution=(500, 400))\n",
    "ax = Axis(fig[1, 1], title=\"Discrete Uniform Frequency Distribution\")\n",
    "\n",
    "hist!(ax, rvs_uniform; bins=6, strokewidth=1, strokecolor=:black)\n",
    "limits!(ax, 0.5, 7.5, 0, 200)\n",
    "\n",
    "fig"
   ]
  },
  {
   "cell_type": "markdown",
   "metadata": {},
   "source": [
    "### Discrete Probability Mass Function\n"
   ]
  },
  {
   "cell_type": "markdown",
   "metadata": {},
   "source": [
    "# Continous Distributions\n"
   ]
  },
  {
   "cell_type": "markdown",
   "metadata": {},
   "source": [
    "## Continuous Uniform Distribution\n"
   ]
  },
  {
   "cell_type": "markdown",
   "metadata": {},
   "source": [
    "The PDF of **Continuous uniform distribution** is\n",
    "\n",
    "$$\n",
    "\\begin{equation}\n",
    "f(x)=\\frac{1}{b-a}\n",
    "\\end{equation}\n",
    "$$\n",
    "\n",
    "And its r.v. generator is one of the most commonly used function in NumPy.\n"
   ]
  },
  {
   "cell_type": "code",
   "execution_count": null,
   "metadata": {},
   "outputs": [],
   "source": [
    "Random.seed!(42);\n",
    "l, h = 0, 1;\n",
    "d_uniform = Uniform(l, h);\n",
    "rvs_uniform = rand(d_uniform, 10000);\n",
    "\n",
    "fig = Figure(resolution=(500, 400))\n",
    "ax = Axis(fig[1, 1], title=\"Continous Uniform Frequency Distribution\")\n",
    "\n",
    "hist!(ax, rvs_uniform; bins=30, normalization=:pdf, strokewidth=1, strokecolor=:black)\n",
    "limits!(ax, -0.05, 1.05, 0, 1.5)\n",
    "\n",
    "fig"
   ]
  },
  {
   "cell_type": "markdown",
   "metadata": {},
   "source": [
    "### CDF and PDF of Continuous Uniform Distribution\n"
   ]
  },
  {
   "cell_type": "code",
   "execution_count": null,
   "metadata": {},
   "outputs": [],
   "source": [
    "function plot_prob(x, pdf::Vector, cdf::Vector, title::String)\n",
    "    fig = Figure(resolution=(1000, 400));\n",
    "    ax = Axis(fig[1, 1], title=\"PDF of $title Distribution\");\n",
    "    lines!(ax, x, pdf);\n",
    "    \n",
    "    ax2 = Axis(fig[1, 2], title=\"CDF of $title Distribution\");\n",
    "    lines!(ax2, x, cdf);\n",
    "    return fig\n",
    "end"
   ]
  },
  {
   "cell_type": "code",
   "execution_count": null,
   "metadata": {},
   "outputs": [],
   "source": [
    "unif_x = LinRange(-.2, 1.2, 100)\n",
    "unif_pdf = pdf(d_uniform, unif_x)\n",
    "unif_cdf = cdf(d_uniform, unif_x)\n",
    "\n",
    "plot_prob(unif_x, unif_pdf, unif_cdf, \"Continous Uniform\")"
   ]
  },
  {
   "cell_type": "markdown",
   "metadata": {},
   "source": [
    "## Normal Distribution\n"
   ]
  },
  {
   "cell_type": "markdown",
   "metadata": {},
   "source": [
    "The **normal distribution** is the king of all distributions. The PDF of Normal distribution is\n",
    "\n",
    "$$\n",
    "f(x)=\\frac{1}{σ \\sqrt{2 π}} e^{-\\frac{1}{2}\\left(\\frac{x-μ}{σ}\\right)^{2}}\n",
    "$$\n",
    "\n",
    "Below are the plots of CDF and PDF.\n"
   ]
  },
  {
   "cell_type": "code",
   "execution_count": null,
   "metadata": {},
   "outputs": [],
   "source": [
    "Random.seed!(42);\n",
    "μ, σ = 2, 1;\n",
    "norm_x = -2:0.1:6;\n",
    "d_normal = Normal(μ, σ);\n",
    "norm_pdf = pdf(d_normal, norm_x);\n",
    "norm_cdf = cdf(d_normal, norm_x);\n",
    "\n",
    "plot_prob(norm_x, norm_pdf, norm_cdf, \"Normal\")"
   ]
  },
  {
   "cell_type": "code",
   "execution_count": null,
   "metadata": {},
   "outputs": [],
   "source": [
    "Random.seed!(42);\n",
    "μ, σ = 0.0, 1.0;\n",
    "d_normal2 = Normal(μ, σ);\n",
    "\n",
    "norm_x2 = LinRange(-4, 4, 200)\n",
    "norm_pdf = pdf(d_normal2, norm_x2)\n",
    "norm_cdf = cdf(d_normal2, norm_x2)\n",
    "\n",
    "fig = Figure(resolution = (1000, 400));\n",
    "ax = Axis(fig[1, 1], xlabel = \"X\", ylabel = \"PDF(X)\");\n",
    "lines!(ax, norm_x2, norm_pdf);\n",
    "band!(norm_x2[norm_x2.≤μ], 0, norm_pdf[1:argmax(norm_pdf)], color = (\"#2E86C3\", 0.7))\n",
    "text!(\n",
    "    \"CDF(x)\",\n",
    "    position = (μ - 1.25, 0.25 * pdf(d_normal2, μ)),\n",
    "    color = :white,\n",
    "    textsize = 15,\n",
    ")\n",
    "\n",
    "ax2 = Axis(fig[1, 2], xlabel = \"X\", ylabel = \"CDF(X)\");\n",
    "lines!(ax2, norm_x2, norm_cdf);\n",
    "scatter!(ax2, [μ], [cdf(d_normal2, μ)], color = :red);\n",
    "vlines!(ax2, 0, linestyle = :dash, color = \"#2E86C3\")\n",
    "fig"
   ]
  },
  {
   "cell_type": "markdown",
   "metadata": {},
   "source": [
    "### Inverse Normal CDF\n"
   ]
  },
  {
   "cell_type": "code",
   "execution_count": null,
   "metadata": {},
   "outputs": [],
   "source": [
    "norm_95_r = quantile(d_normal2, .975);\n",
    "norm_95_l = quantile(d_normal2, .025);\n",
    "\n",
    "x = LinRange(-5, 5, 200);\n",
    "y = pdf(d_normal2, x);\n",
    "\n",
    "xl = LinRange(-5, norm_95_l, 100);\n",
    "yl = pdf(d_normal2, xl);\n",
    "xr = LinRange(norm_95_r, 5, 100);\n",
    "yr = pdf(d_normal2, xr);\n",
    "\n",
    "fig = Figure(resolution = (600, 400));\n",
    "ax = Axis(fig[1, 1], title = \"Normal Distribution and 2.5% Shaded Area\");\n",
    "\n",
    "lines!(\n",
    "    ax,\n",
    "    x,\n",
    "    y,\n",
    "    linewidth = 3,\n",
    "    color = \"#CC4845\",\n",
    "    label = \"PDF of Normal Distribution\",\n",
    ")\n",
    "\n",
    "band!(ax, x, y, 0, color = (\"#2E86C3\", 0.7))\n",
    "band!(ax, xl, yl, 0, color = (\"#2E86C3\", 0.9))\n",
    "band!(ax, xr, yr, 0, color = (\"#2E86C3\", 0.9))\n",
    "\n",
    "text!(ax, \"95%\", position = (-.4, 0.15), color = :white)\n",
    "text!(ax, \"2.5%\", position = (-1.7, 0.015), color = :white)\n",
    "text!(ax, \"2.5%\", position = (0.7, 0.015), color = :white)\n",
    "\n",
    "fig"
   ]
  },
  {
   "cell_type": "markdown",
   "metadata": {},
   "source": [
    "### Normal Random Variable Generator\n"
   ]
  },
  {
   "cell_type": "code",
   "execution_count": null,
   "metadata": {},
   "outputs": [],
   "source": [
    "rvs_norm = rand(d_normal2, 5000)\n",
    "\n",
    "fig = Figure(resolution=(600, 400));\n",
    "ax = Axis(fig[1, 1], title=\"Normal Frequency Distribution\")\n",
    "\n",
    "hist!(ax, rvs_norm; bins=50, normalization=:pdf, strokewidth=1, strokecolor=:black)\n",
    "fig"
   ]
  },
  {
   "cell_type": "markdown",
   "metadata": {},
   "source": [
    "## Different Representations\n"
   ]
  },
  {
   "cell_type": "code",
   "execution_count": null,
   "metadata": {},
   "outputs": [],
   "source": [
    "const × = Iterators.product;"
   ]
  },
  {
   "cell_type": "code",
   "execution_count": null,
   "metadata": {},
   "outputs": [],
   "source": [
    "Random.seed!(42);\n",
    "x = -10:0.1:10\n",
    "x2 = 0:0.001:1\n",
    "d_norm = Normal(0, 1);\n",
    "pdf_norm = pdf(d_norm, x);\n",
    "\n",
    "fig = Figure(resolution = (800, 600));\n",
    "ax = Axis(fig[1, 1:2], title = \"PDF\");\n",
    "\n",
    "lines!(ax, x, pdf_norm);\n",
    "xlims!(ax, [-10, 10]);\n",
    "\n",
    "inds = ((2, 3) × (1, 2)) |> collect;\n",
    "funcs = [cdf, quantile, ccdf, cquantile]\n",
    "names = [\"cdf\", \"ppf\", \"sf\", \"isf\"]\n",
    "\n",
    "for (ind, func, name) ∈ zip(inds, funcs, names)\n",
    "    ax2 = Axis(fig[ind[1], ind[2]])\n",
    "    if ind[1] == 2\n",
    "        lines!(ax2, x, func(d_norm, x))\n",
    "        xlims!(ax2, [-4, 4])\n",
    "        ax2.title = name\n",
    "    else\n",
    "        lines!(ax2, x2, func(d_norm, x2))\n",
    "        xlims!(ax2, [0, 1])\n",
    "        ax2.title = name\n",
    "    end\n",
    "end\n",
    "\n",
    "fig"
   ]
  },
  {
   "cell_type": "markdown",
   "metadata": {},
   "source": [
    "## Shifted distribution\n"
   ]
  },
  {
   "cell_type": "code",
   "execution_count": null,
   "metadata": {},
   "outputs": [],
   "source": [
    "Random.seed!(42);\n",
    "x = -5:0.1:15;\n",
    "myMean = 5;\n",
    "mySD = 2;\n",
    "y = pdf(Normal(myMean, mySD), x);\n",
    "\n",
    "fig = Figure(resolution = (600, 400));\n",
    "ax = Axis(fig[1, 1:2], title = \"Shifted Normal Distribution\");\n",
    "\n",
    "lines!(x, y)\n",
    "fig"
   ]
  },
  {
   "cell_type": "markdown",
   "metadata": {},
   "source": [
    "## Random numbers with a normal distribution\n"
   ]
  },
  {
   "cell_type": "code",
   "execution_count": null,
   "metadata": {},
   "outputs": [],
   "source": [
    "Random.seed!(42);\n",
    "numData = 500\n",
    "data = rand(Normal(myMean, mySD), numData)\n",
    "\n",
    "fig = Figure(resolution = (600, 600));\n",
    "ax = Axis(fig[1, 1], title = \"Normally distributed data\");\n",
    "scatter!(ax, data)\n",
    "\n",
    "ax2 = Axis(fig[2, 1], title = \"Histogram of normally distributed data\");\n",
    "hist!(ax2, data, strokewidth=1, strokecolor=:black)\n",
    "fig"
   ]
  },
  {
   "cell_type": "markdown",
   "metadata": {},
   "source": [
    "## Beta Distribution\n"
   ]
  },
  {
   "cell_type": "markdown",
   "metadata": {},
   "source": [
    "The PDF of **Beta distribution** is\n",
    "\n",
    "$$\n",
    "\\begin{equation}\n",
    "f(x, a, b)=\\frac{Γ(a+b) x^{a-1}(1-x)^{b-1}}{Γ(a) Γ(b)}\n",
    "\\end{equation}\n",
    "$$\n",
    "\n",
    "where $0≤ x ≤ 1$ and $a>0$, $b>0$, $Γ$ is the Gamma function, and $a$ and $b$ decide the shape of Beta PDF.\n"
   ]
  },
  {
   "cell_type": "markdown",
   "metadata": {},
   "source": []
  },
  {
   "cell_type": "code",
   "execution_count": null,
   "metadata": {},
   "outputs": [],
   "source": [
    "Random.seed!(42);\n",
    "x = LinRange(0, 1, 100);\n",
    "\n",
    "fig = Figure(resolution = (1000, 400));\n",
    "\n",
    "αs = [0.5, 5, 1, 2];\n",
    "βs = [0.5, 1, 5, 2];\n",
    "colors = [:red, :blue, :green, :orange];\n",
    "\n",
    "ax = Axis(fig[1, 1], title = \"PDF of Beta Distribution\")\n",
    "ax2 = Axis(fig[1, 2], title = \"CDF of Beta Distribution\")\n",
    "\n",
    "for (α, β, cl) ∈ zip(αs, βs, colors)\n",
    "    d_beta = Beta(α, β);\n",
    "    pdf_beta = pdf(d_beta, x)\n",
    "    lines!(ax, x, pdf_beta, color = cl, label = \"α = $α, β = $β\")\n",
    "    axislegend(ax, position = :ct, fontsize = 10)\n",
    "\n",
    "    cdf_beta = cdf(d_beta, x)\n",
    "    lines!(ax2, x, cdf_beta, color = cl, label = \"α = $α, β = $β\")\n",
    "    axislegend(ax2, position = :lt, fontsize = 10)\n",
    "end\n",
    "\n",
    "fig"
   ]
  },
  {
   "cell_type": "markdown",
   "metadata": {},
   "source": [
    "Beta distribution is mostly useful as **prior distribution** in Bayesian estimation, because it is bounded in $[0, 1]$, that is perfect for modeling the _probability distribution of probabilities_. In Bayesian estimation, we only care about the proportion between prior and posterior, by adjusting $a$ and $b$ we can use Beta distribution to express any kinds of prior beliefs including normal, uniform, exponential distribution and etc.\n",
    "\n",
    "$$\n",
    "\\begin{equation}\n",
    "f(x, a, b)∝ x^{a-1}(1-x)^{b-1}\n",
    "\\end{equation}\n",
    "$$\n"
   ]
  }
 ],
 "metadata": {
  "kernelspec": {
   "display_name": "Julia 1.7.0",
   "language": "julia",
   "name": "julia-1.7"
  },
  "language_info": {
   "file_extension": ".jl",
   "mimetype": "application/julia",
   "name": "julia",
   "version": "1.7.0"
  },
  "toc": {
   "base_numbering": 1,
   "nav_menu": {},
   "number_sections": true,
   "sideBar": true,
   "skip_h1_title": false,
   "title_cell": "Table of Contents",
   "title_sidebar": "Contents",
   "toc_cell": false,
   "toc_position": {},
   "toc_section_display": true,
   "toc_window_display": true
  }
 },
 "nbformat": 4,
 "nbformat_minor": 2
}
