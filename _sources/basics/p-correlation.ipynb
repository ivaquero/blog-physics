{
 "cells": [
  {
   "cell_type": "markdown",
   "metadata": {},
   "source": [
    "# Correlation"
   ]
  },
  {
   "cell_type": "code",
   "execution_count": null,
   "metadata": {},
   "outputs": [],
   "source": [
    "using CairoMakie\n",
    "using AlgebraOfGraphics\n",
    "using DataFrames, DataFramesMeta\n",
    "using CSV: File"
   ]
  },
  {
   "cell_type": "markdown",
   "metadata": {},
   "source": [
    "## Regression Plot"
   ]
  },
  {
   "cell_type": "code",
   "execution_count": null,
   "metadata": {},
   "outputs": [],
   "source": [
    "mpg = File(\"../../data-df/mpg.csv\") |> DataFrame;\n",
    "mpg |> x -> first(x, 5)"
   ]
  },
  {
   "cell_type": "code",
   "execution_count": null,
   "metadata": {},
   "outputs": [],
   "source": [
    "mpg_select = @chain mpg begin\n",
    "    @rsubset(:cyl in [4, 8])\n",
    "    @rtransform(:cyl = string(:cyl))\n",
    "end;"
   ]
  },
  {
   "cell_type": "code",
   "execution_count": null,
   "metadata": {},
   "outputs": [],
   "source": [
    "fig = Figure(resolution = (1000, 500), title=\"Figure\")\n",
    "axis = (xticks=0:1:8, yticks=0:10:50)\n",
    "\n",
    "layers = linear() + visual(Scatter)\n",
    "\n",
    "mpg_select |> \n",
    "    x -> data(x) *  mapping(:displ, :hwy, color = :cyl, col = :cyl) * layers |> \n",
    "    x -> draw!(fig[1, 1], x; axis=axis);\n",
    "\n",
    "Label(\n",
    "    fig[1, 1, Top()], \n",
    "    \"Scatterplot with line of best fit grouped by number of cylinders\",\n",
    "    padding = (0, 0, 50, 0))\n",
    "\n",
    "fig"
   ]
  },
  {
   "cell_type": "markdown",
   "metadata": {},
   "source": [
    "## Jittering"
   ]
  }
 ],
 "metadata": {
  "kernelspec": {
   "display_name": "Julia 1.7.0",
   "language": "julia",
   "name": "julia-1.7"
  },
  "language_info": {
   "file_extension": ".jl",
   "mimetype": "application/julia",
   "name": "julia",
   "version": "1.7.0"
  },
  "orig_nbformat": 4
 },
 "nbformat": 4,
 "nbformat_minor": 2
}
