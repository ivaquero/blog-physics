{
 "cells": [
  {
   "cell_type": "markdown",
   "metadata": {},
   "source": [
    "# Distribution"
   ]
  },
  {
   "cell_type": "code",
   "execution_count": 1,
   "metadata": {},
   "outputs": [],
   "source": [
    "using CairoMakie\n",
    "using AlgebraOfGraphics\n",
    "using DataFrames, DataFramesMeta\n",
    "using CSV: File"
   ]
  },
  {
   "cell_type": "markdown",
   "metadata": {},
   "source": [
    "## Stacked Histogram"
   ]
  },
  {
   "cell_type": "code",
   "execution_count": 2,
   "metadata": {},
   "outputs": [
    {
     "data": {
      "text/html": [
       "<div class=\"data-frame\"><p>5 rows × 11 columns (omitted printing of 1 columns)</p><table class=\"data-frame\"><thead><tr><th></th><th>manufacturer</th><th>model</th><th>displ</th><th>year</th><th>cyl</th><th>trans</th><th>drv</th><th>cty</th><th>hwy</th><th>fl</th></tr><tr><th></th><th title=\"String\">String</th><th title=\"String\">String</th><th title=\"Float64\">Float64</th><th title=\"Int64\">Int64</th><th title=\"Int64\">Int64</th><th title=\"String\">String</th><th title=\"String\">String</th><th title=\"Int64\">Int64</th><th title=\"Int64\">Int64</th><th title=\"String\">String</th></tr></thead><tbody><tr><th>1</th><td>audi</td><td>a4</td><td>1.8</td><td>1999</td><td>4</td><td>auto(l5)</td><td>f</td><td>18</td><td>29</td><td>p</td></tr><tr><th>2</th><td>audi</td><td>a4</td><td>1.8</td><td>1999</td><td>4</td><td>manual(m5)</td><td>f</td><td>21</td><td>29</td><td>p</td></tr><tr><th>3</th><td>audi</td><td>a4</td><td>2.0</td><td>2008</td><td>4</td><td>manual(m6)</td><td>f</td><td>20</td><td>31</td><td>p</td></tr><tr><th>4</th><td>audi</td><td>a4</td><td>2.0</td><td>2008</td><td>4</td><td>auto(av)</td><td>f</td><td>21</td><td>30</td><td>p</td></tr><tr><th>5</th><td>audi</td><td>a4</td><td>2.8</td><td>1999</td><td>6</td><td>auto(l5)</td><td>f</td><td>16</td><td>26</td><td>p</td></tr></tbody></table></div>"
      ],
      "text/latex": [
       "\\begin{tabular}{r|ccccccccccc}\n",
       "\t& manufacturer & model & displ & year & cyl & trans & drv & cty & hwy & fl & \\\\\n",
       "\t\\hline\n",
       "\t& String & String & Float64 & Int64 & Int64 & String & String & Int64 & Int64 & String & \\\\\n",
       "\t\\hline\n",
       "\t1 & audi & a4 & 1.8 & 1999 & 4 & auto(l5) & f & 18 & 29 & p & $\\dots$ \\\\\n",
       "\t2 & audi & a4 & 1.8 & 1999 & 4 & manual(m5) & f & 21 & 29 & p & $\\dots$ \\\\\n",
       "\t3 & audi & a4 & 2.0 & 2008 & 4 & manual(m6) & f & 20 & 31 & p & $\\dots$ \\\\\n",
       "\t4 & audi & a4 & 2.0 & 2008 & 4 & auto(av) & f & 21 & 30 & p & $\\dots$ \\\\\n",
       "\t5 & audi & a4 & 2.8 & 1999 & 6 & auto(l5) & f & 16 & 26 & p & $\\dots$ \\\\\n",
       "\\end{tabular}\n"
      ],
      "text/plain": [
       "\u001b[1m5×11 DataFrame\u001b[0m\n",
       "\u001b[1m Row \u001b[0m│\u001b[1m manufacturer \u001b[0m\u001b[1m model  \u001b[0m\u001b[1m displ   \u001b[0m\u001b[1m year  \u001b[0m\u001b[1m cyl   \u001b[0m\u001b[1m trans      \u001b[0m\u001b[1m drv    \u001b[0m\u001b[1m cty   \u001b[0m\u001b[1m\u001b[0m ⋯\n",
       "\u001b[1m     \u001b[0m│\u001b[90m String       \u001b[0m\u001b[90m String \u001b[0m\u001b[90m Float64 \u001b[0m\u001b[90m Int64 \u001b[0m\u001b[90m Int64 \u001b[0m\u001b[90m String     \u001b[0m\u001b[90m String \u001b[0m\u001b[90m Int64 \u001b[0m\u001b[90m\u001b[0m ⋯\n",
       "─────┼──────────────────────────────────────────────────────────────────────────\n",
       "   1 │ audi          a4          1.8   1999      4  auto(l5)    f          18  ⋯\n",
       "   2 │ audi          a4          1.8   1999      4  manual(m5)  f          21\n",
       "   3 │ audi          a4          2.0   2008      4  manual(m6)  f          20\n",
       "   4 │ audi          a4          2.0   2008      4  auto(av)    f          21\n",
       "   5 │ audi          a4          2.8   1999      6  auto(l5)    f          16  ⋯\n",
       "\u001b[36m                                                               3 columns omitted\u001b[0m"
      ]
     },
     "metadata": {},
     "output_type": "display_data"
    }
   ],
   "source": [
    "mpg = File(\"../../data-df/mpg.csv\") |> DataFrame;\n",
    "mpg |> x -> first(x, 5)"
   ]
  },
  {
   "cell_type": "code",
   "execution_count": 3,
   "metadata": {},
   "outputs": [
    {
     "data": {
      "text/plain": [
       "11-element Vector{String}:\n",
       " \"manufacturer\"\n",
       " \"model\"\n",
       " \"displ\"\n",
       " \"year\"\n",
       " \"cyl\"\n",
       " \"trans\"\n",
       " \"drv\"\n",
       " \"cty\"\n",
       " \"hwy\"\n",
       " \"fl\"\n",
       " \"class\""
      ]
     },
     "metadata": {},
     "output_type": "display_data"
    }
   ],
   "source": [
    "mpg |> names"
   ]
  },
  {
   "cell_type": "code",
   "execution_count": 4,
   "metadata": {},
   "outputs": [
    {
     "data": {
      "text/plain": [
       "7-element Vector{String}:\n",
       " \"compact\"\n",
       " \"midsize\"\n",
       " \"suv\"\n",
       " \"2seater\"\n",
       " \"minivan\"\n",
       " \"pickup\"\n",
       " \"subcompact\""
      ]
     },
     "metadata": {},
     "output_type": "display_data"
    }
   ],
   "source": [
    "classes = mpg.class |> unique"
   ]
  },
  {
   "cell_type": "code",
   "execution_count": 5,
   "metadata": {},
   "outputs": [
    {
     "data": {
      "image/png": "[encoded data removed]",
      "text/plain": [
       "Scene (1000px, 400px):\n",
       "  18 Plots:\n",
       "    ├ Combined{Makie.poly, Tuple{Vector{Vector{Point{2, Float32}}}}}\n",
       "    ├ LineSegments{Tuple{Vector{Point{2, Float32}}}}\n",
       "    ├ LineSegments{Tuple{Vector{Point{2, Float32}}}}\n",
       "    ├ LineSegments{Tuple{Vector{Point{2, Float32}}}}\n",
       "    ├ LineSegments{Tuple{Vector{Point{2, Float32}}}}\n",
       "    ├ LineSegments{Tuple{Vector{Point{2, Float32}}}}\n",
       "    ├ LineSegments{Tuple{Vector{Point{2, Float32}}}}\n",
       "    ├ MakieCore.Text{Tuple{String}}\n",
       "    ├ Lines{Tuple{Vector{Point{2, Float32}}}}\n",
       "    ├ MakieCore.Text{Tuple{Vector{Tuple{AbstractString, Point{2, Float32}}}}}\n",
       "    ├ LineSegments{Tuple{Vector{Point{2, Float32}}}}\n",
       "    ├ LineSegments{Tuple{Vector{Point{2, Float32}}}}\n",
       "    ├ MakieCore.Text{Tuple{String}}\n",
       "    ├ Lines{Tuple{Vector{Point{2, Float32}}}}\n",
       "    ├ MakieCore.Text{Tuple{Vector{Tuple{AbstractString, Point{2, Float32}}}}}\n",
       "    ├ Lines{Tuple{Vector{Point{2, Float32}}}}\n",
       "    ├ Lines{Tuple{Vector{Point{2, Float32}}}}\n",
       "    └ MakieCore.Text{Tuple{String}}\n",
       "  2 Child Scenes:\n",
       "    ├ Scene (940px, 341px)\n",
       "    └ Scene (1000px, 400px)"
      ]
     },
     "metadata": {},
     "output_type": "display_data"
    }
   ],
   "source": [
    "fig =\n",
    "    Figure(resolution = (1000, 400), title = \"Stacked Histogram of displ colored by class\");\n",
    "ax = Axis(fig[1, 1])\n",
    "\n",
    "for c ∈ classes\n",
    "    mpg_select = @rsubset(mpg, :class == c)\n",
    "    hist!(ax, mpg_select[:, :displ]; bins=30, strokewidth = 0.5, strokecolor = :black, label = c)\n",
    "end\n",
    "\n",
    "xlims!(ax, (1, 7.5))\n",
    "ylims!(ax, (0, 25))\n",
    "axislegend(ax, position =:rt)\n",
    "fig"
   ]
  },
  {
   "cell_type": "markdown",
   "metadata": {},
   "source": [
    "## Density"
   ]
  },
  {
   "cell_type": "code",
   "execution_count": 6,
   "metadata": {},
   "outputs": [],
   "source": [
    "fig = Figure(resolution = (1000, 400));\n",
    "ax = Axis(fig[1, 1]);\n",
    "\n",
    "for c ∈ [\"compact\", \"suv\", \"minivan\"]\n",
    "    mpg_select = @rsubset(mpg, :class == c)\n",
    "    hist!(ax, mpg_select[:, :cty]; bins=10, normalization = :pdf, strokewidth = 0.5, strokecolor = :black, label = c)\n",
    "    density!(ax, mpg_select[:, :cty])\n",
    "end\n",
    "\n",
    "xlims!(ax, (5, 35))\n",
    "ylims!(ax, (0, 1))\n",
    "axislegend(ax, position =:rt)\n",
    "fig"
   ]
  },
  {
   "cell_type": "markdown",
   "metadata": {},
   "source": [
    "## Box"
   ]
  },
  {
   "cell_type": "code",
   "execution_count": null,
   "metadata": {},
   "outputs": [],
   "source": [
    "fig = Figure(resolution = (1000, 400));\n",
    "ax = Axis(fig[1, 1]);\n",
    "\n",
    "# for c ∈ classes\n",
    "#     mpg_select = @rsubset(mpg, :class == c)\n",
    "#     boxplot(ax, mpg_select[:, :class], mpg_select[:, :cty], label = c)\n",
    "# end\n",
    "\n",
    "# fig\n",
    "\n",
    "layers = visual(BoxPlot)\n",
    "\n",
    "mpg |> \n",
    "    x -> data(x) * mapping(:class, :cty, color = :class) * layers |>\n",
    "    x -> draw!(ax, x);\n",
    "\n",
    "fig"
   ]
  }
 ],
 "metadata": {
  "kernelspec": {
   "display_name": "Julia 1.7.0",
   "language": "julia",
   "name": "julia-1.7"
  },
  "language_info": {
   "file_extension": ".jl",
   "mimetype": "application/julia",
   "name": "julia",
   "version": "1.7.0"
  },
  "orig_nbformat": 4
 },
 "nbformat": 4,
 "nbformat_minor": 2
}
