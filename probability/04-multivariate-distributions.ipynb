{
 "cells": [
  {
   "cell_type": "markdown",
   "metadata": {},
   "source": [
    "# Multivariate Distributions\n"
   ]
  },
  {
   "cell_type": "code",
   "execution_count": 1,
   "metadata": {
    "ExecuteTime": {
     "end_time": "2022-02-07T21:14:26.287000+08:00",
     "start_time": "2022-02-07T13:14:25.621Z"
    }
   },
   "outputs": [],
   "source": [
    "using Combinatorics\n",
    "using Distributions, Random"
   ]
  },
  {
   "cell_type": "code",
   "execution_count": 2,
   "metadata": {
    "ExecuteTime": {
     "end_time": "2022-02-07T21:14:29.807000+08:00",
     "start_time": "2022-02-07T13:14:25.622Z"
    }
   },
   "outputs": [
    {
     "name": "stderr",
     "output_type": "stream",
     "text": [
      "┌ Info: Precompiling GLMakie [e9467ef8-e4e7-5192-8a1a-b1aee30e663a]\n",
      "└ @ Base loading.jl:1423\n"
     ]
    }
   ],
   "source": [
    "using GLMakie"
   ]
  },
  {
   "cell_type": "markdown",
   "metadata": {},
   "source": [
    "# Bivariate Normal Distribution\n"
   ]
  },
  {
   "cell_type": "markdown",
   "metadata": {},
   "source": [
    "The most prevalent _multivariate normal distribution_ is **bivariate normal distribution**\n",
    "\n",
    "$$\n",
    "\\begin{equation}\n",
    "f_\\mathbf{X}(x_1,...,x_2)=\\frac{1}{\\sqrt{(2π)^k|Σ|}}\\exp{\\Big(-\\frac{(x-μ)^TΣ^{-1}(x-μ)}{2}\\Big)}\n",
    "\\end{equation}\n",
    "$$\n"
   ]
  },
  {
   "cell_type": "markdown",
   "metadata": {},
   "source": [
    "There are two ways of formulating a multivariate normal distribution in Python, use any one you see fit.\n"
   ]
  },
  {
   "cell_type": "markdown",
   "metadata": {},
   "source": [
    "## 1st Method of Formulation\n"
   ]
  },
  {
   "cell_type": "code",
   "execution_count": 7,
   "metadata": {
    "ExecuteTime": {
     "end_time": "2022-02-07T21:16:52.834000+08:00",
     "start_time": "2022-02-07T13:16:52.682Z"
    }
   },
   "outputs": [
    {
     "ename": "LoadError",
     "evalue": "MethodError: no method matching iterate(::FullNormal)\n\u001b[0mClosest candidates are:\n\u001b[0m  iterate(\u001b[91m::Union{LinRange, StepRangeLen}\u001b[39m) at /Applications/Julia-1.7.app/Contents/Resources/julia/share/julia/base/range.jl:826\n\u001b[0m  iterate(\u001b[91m::Union{LinRange, StepRangeLen}\u001b[39m, \u001b[91m::Integer\u001b[39m) at /Applications/Julia-1.7.app/Contents/Resources/julia/share/julia/base/range.jl:826\n\u001b[0m  iterate(\u001b[91m::T\u001b[39m) where T<:Union{Base.KeySet{<:Any, <:Dict}, Base.ValueIterator{<:Dict}} at /Applications/Julia-1.7.app/Contents/Resources/julia/share/julia/base/dict.jl:695\n\u001b[0m  ...",
     "output_type": "error",
     "traceback": [
      "MethodError: no method matching iterate(::FullNormal)\n\u001b[0mClosest candidates are:\n\u001b[0m  iterate(\u001b[91m::Union{LinRange, StepRangeLen}\u001b[39m) at /Applications/Julia-1.7.app/Contents/Resources/julia/share/julia/base/range.jl:826\n\u001b[0m  iterate(\u001b[91m::Union{LinRange, StepRangeLen}\u001b[39m, \u001b[91m::Integer\u001b[39m) at /Applications/Julia-1.7.app/Contents/Resources/julia/share/julia/base/range.jl:826\n\u001b[0m  iterate(\u001b[91m::T\u001b[39m) where T<:Union{Base.KeySet{<:Any, <:Dict}, Base.ValueIterator{<:Dict}} at /Applications/Julia-1.7.app/Contents/Resources/julia/share/julia/base/dict.jl:695\n\u001b[0m  ...",
      "",
      "Stacktrace:",
      "  [1] copyto!(dest::Vector{Float64}, src::FullNormal)",
      "    @ Base ./abstractarray.jl:890",
      "  [2] _collect(cont::UnitRange{Int64}, itr::FullNormal, #unused#::Base.HasEltype, isz::Base.HasLength)",
      "    @ Base ./array.jl:655",
      "  [3] collect(itr::FullNormal)",
      "    @ Base ./array.jl:649",
      "  [4] broadcastable(x::FullNormal)",
      "    @ Base.Broadcast ./broadcast.jl:704",
      "  [5] broadcasted(::Function, ::FullNormal, ::Vector{Float64})",
      "    @ Base.Broadcast ./broadcast.jl:1300",
      "  [6] (::var\"#5#6\")(::Tuple{Float64, Float64})",
      "    @ Main ./none:0",
      "  [7] iterate",
      "    @ ./generator.jl:47 [inlined]",
      "  [8] collect(itr::Base.Generator{Base.Iterators.ProductIterator{Tuple{LinRange{Float64, Int64}, LinRange{Float64, Int64}}}, var\"#5#6\"})",
      "    @ Base ./array.jl:724",
      "  [9] top-level scope",
      "    @ In[7]:11",
      " [10] eval",
      "    @ ./boot.jl:373 [inlined]",
      " [11] include_string(mapexpr::typeof(REPL.softscope), mod::Module, code::String, filename::String)",
      "    @ Base ./loading.jl:1196"
     ]
    }
   ],
   "source": [
    "Random.seed!(42);\n",
    "mu_x = 0;\n",
    "sigma_x = 2;\n",
    "mu_y = 0;\n",
    "sigma_y = 2;\n",
    "\n",
    "d_mvnorm = MvNormal([mu_x, mu_y], [sigma_x 0; 0 sigma_y]);\n",
    "\n",
    "x = LinRange(-10, 10, 100);\n",
    "y = LinRange(-10, 10, 100);\n",
    "z = [pdf.(d_mvnorm, [i, j]) for i ∈ x, j ∈ y];\n",
    "\n",
    "# fig = Figure(resolution = (1000, 600));\n",
    "# ax = Axis3(\n",
    "#     fig[1, 1],\n",
    "#     xlabel = \"X axis\",\n",
    "#     ylabel = \"Y axis\",\n",
    "#     zlabel = \"Z axis\",\n",
    "#     title = \"Bivariate Normal Distribution\",\n",
    "# );\n",
    "\n",
    "# surface!(ax, x, y, z);\n",
    "\n",
    "# fig"
   ]
  },
  {
   "cell_type": "markdown",
   "metadata": {},
   "source": [
    "## 2nd Method of Formulation\n"
   ]
  },
  {
   "cell_type": "code",
   "execution_count": 8,
   "metadata": {
    "ExecuteTime": {
     "end_time": "2022-02-07T21:14:31.509000+08:00",
     "start_time": "2022-02-07T13:14:25.624Z"
    }
   },
   "outputs": [
    {
     "ename": "LoadError",
     "evalue": "MethodError: no method matching iterate(::FullNormal)\n\u001b[0mClosest candidates are:\n\u001b[0m  iterate(\u001b[91m::Union{LinRange, StepRangeLen}\u001b[39m) at /Applications/Julia-1.7.app/Contents/Resources/julia/share/julia/base/range.jl:826\n\u001b[0m  iterate(\u001b[91m::Union{LinRange, StepRangeLen}\u001b[39m, \u001b[91m::Integer\u001b[39m) at /Applications/Julia-1.7.app/Contents/Resources/julia/share/julia/base/range.jl:826\n\u001b[0m  iterate(\u001b[91m::T\u001b[39m) where T<:Union{Base.KeySet{<:Any, <:Dict}, Base.ValueIterator{<:Dict}} at /Applications/Julia-1.7.app/Contents/Resources/julia/share/julia/base/dict.jl:695\n\u001b[0m  ...",
     "output_type": "error",
     "traceback": [
      "MethodError: no method matching iterate(::FullNormal)\n\u001b[0mClosest candidates are:\n\u001b[0m  iterate(\u001b[91m::Union{LinRange, StepRangeLen}\u001b[39m) at /Applications/Julia-1.7.app/Contents/Resources/julia/share/julia/base/range.jl:826\n\u001b[0m  iterate(\u001b[91m::Union{LinRange, StepRangeLen}\u001b[39m, \u001b[91m::Integer\u001b[39m) at /Applications/Julia-1.7.app/Contents/Resources/julia/share/julia/base/range.jl:826\n\u001b[0m  iterate(\u001b[91m::T\u001b[39m) where T<:Union{Base.KeySet{<:Any, <:Dict}, Base.ValueIterator{<:Dict}} at /Applications/Julia-1.7.app/Contents/Resources/julia/share/julia/base/dict.jl:695\n\u001b[0m  ...",
      "",
      "Stacktrace:",
      "  [1] copyto!(dest::Vector{Float64}, src::FullNormal)",
      "    @ Base ./abstractarray.jl:890",
      "  [2] _collect(cont::UnitRange{Int64}, itr::FullNormal, #unused#::Base.HasEltype, isz::Base.HasLength)",
      "    @ Base ./array.jl:655",
      "  [3] collect(itr::FullNormal)",
      "    @ Base ./array.jl:649",
      "  [4] broadcastable(x::FullNormal)",
      "    @ Base.Broadcast ./broadcast.jl:704",
      "  [5] broadcasted(::Function, ::FullNormal, ::Vector{Float64})",
      "    @ Base.Broadcast ./broadcast.jl:1300",
      "  [6] (::var\"#7#8\")(::Tuple{Float64, Float64})",
      "    @ Main ./none:0",
      "  [7] iterate",
      "    @ ./generator.jl:47 [inlined]",
      "  [8] collect(itr::Base.Generator{Base.Iterators.ProductIterator{Tuple{LinRange{Float64, Int64}, LinRange{Float64, Int64}}}, var\"#7#8\"})",
      "    @ Base ./array.jl:724",
      "  [9] top-level scope",
      "    @ In[8]:7",
      " [10] eval",
      "    @ ./boot.jl:373 [inlined]",
      " [11] include_string(mapexpr::typeof(REPL.softscope), mod::Module, code::String, filename::String)",
      "    @ Base ./loading.jl:1196"
     ]
    }
   ],
   "source": [
    "Random.seed!(42);\n",
    "mu_x = 0;\n",
    "sigma_x = 7;\n",
    "mu_y = 0;\n",
    "sigma_y = 15;\n",
    "d_mvnorm2 = MvNormal([mu_x, mu_y], [sigma_x 0; 0 sigma_y]);\n",
    "z2 = [pdf.(d_mvnorm2, [i, j]) for i ∈ x, j ∈ y];\n",
    "\n",
    "fig = Figure(resolution = (550, 400));\n",
    "ax = Axis(fig[1, 1])\n",
    "\n",
    "contourf!(ax, x, y, z2)\n",
    "fig"
   ]
  }
 ],
 "metadata": {
  "kernelspec": {
   "display_name": "Julia 1.7.2",
   "language": "julia",
   "name": "julia-1.7"
  },
  "language_info": {
   "file_extension": ".jl",
   "mimetype": "application/julia",
   "name": "julia",
   "version": "1.7.2"
  },
  "toc": {
   "base_numbering": 1,
   "nav_menu": {},
   "number_sections": true,
   "sideBar": true,
   "skip_h1_title": false,
   "title_cell": "Table of Contents",
   "title_sidebar": "Contents",
   "toc_cell": false,
   "toc_position": {},
   "toc_section_display": true,
   "toc_window_display": false
  },
  "varInspector": {
   "cols": {
    "lenName": 16,
    "lenType": 16,
    "lenVar": 40
   },
   "kernels_config": {
    "python": {
     "delete_cmd_postfix": "",
     "delete_cmd_prefix": "del ",
     "library": "var_list.py",
     "varRefreshCmd": "print(var_dic_list())"
    },
    "r": {
     "delete_cmd_postfix": ") ",
     "delete_cmd_prefix": "rm(",
     "library": "var_list.r",
     "varRefreshCmd": "cat(var_dic_list()) "
    }
   },
   "types_to_exclude": [
    "module",
    "function",
    "builtin_function_or_method",
    "instance",
    "_Feature"
   ],
   "window_display": false
  }
 },
 "nbformat": 4,
 "nbformat_minor": 2
}
