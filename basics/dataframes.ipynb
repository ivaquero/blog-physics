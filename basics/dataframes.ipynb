{
 "cells": [
  {
   "cell_type": "code",
   "execution_count": 1,
   "metadata": {},
   "outputs": [],
   "source": [
    "using DataFrames\n",
    "using CSV: File"
   ]
  },
  {
   "cell_type": "code",
   "execution_count": 2,
   "metadata": {},
   "outputs": [
    {
     "data": {
      "text/html": [
       "<div class=\"data-frame\"><p>5 rows × 13 columns (omitted printing of 3 columns)</p><table class=\"data-frame\"><thead><tr><th></th><th>mpg</th><th>cyl</th><th>disp</th><th>hp</th><th>drat</th><th>wt</th><th>qsec</th><th>vs</th><th>am</th><th>gear</th></tr><tr><th></th><th title=\"Float64\">Float64</th><th title=\"Int64\">Int64</th><th title=\"Float64\">Float64</th><th title=\"Int64\">Int64</th><th title=\"Float64\">Float64</th><th title=\"Float64\">Float64</th><th title=\"Float64\">Float64</th><th title=\"Int64\">Int64</th><th title=\"Int64\">Int64</th><th title=\"Int64\">Int64</th></tr></thead><tbody><tr><th>1</th><td>4.58258</td><td>6</td><td>160.0</td><td>110</td><td>3.9</td><td>2.62</td><td>16.46</td><td>0</td><td>1</td><td>4</td></tr><tr><th>2</th><td>4.58258</td><td>6</td><td>160.0</td><td>110</td><td>3.9</td><td>2.875</td><td>17.02</td><td>0</td><td>1</td><td>4</td></tr><tr><th>3</th><td>4.77493</td><td>4</td><td>108.0</td><td>93</td><td>3.85</td><td>2.32</td><td>18.61</td><td>1</td><td>1</td><td>4</td></tr><tr><th>4</th><td>4.62601</td><td>6</td><td>258.0</td><td>110</td><td>3.08</td><td>3.215</td><td>19.44</td><td>1</td><td>0</td><td>3</td></tr><tr><th>5</th><td>4.32435</td><td>8</td><td>360.0</td><td>175</td><td>3.15</td><td>3.44</td><td>17.02</td><td>0</td><td>0</td><td>3</td></tr></tbody></table></div>"
      ],
      "text/latex": [
       "\\begin{tabular}{r|ccccccccccc}\n",
       "\t& mpg & cyl & disp & hp & drat & wt & qsec & vs & am & gear & \\\\\n",
       "\t\\hline\n",
       "\t& Float64 & Int64 & Float64 & Int64 & Float64 & Float64 & Float64 & Int64 & Int64 & Int64 & \\\\\n",
       "\t\\hline\n",
       "\t1 & 4.58258 & 6 & 160.0 & 110 & 3.9 & 2.62 & 16.46 & 0 & 1 & 4 & $\\dots$ \\\\\n",
       "\t2 & 4.58258 & 6 & 160.0 & 110 & 3.9 & 2.875 & 17.02 & 0 & 1 & 4 & $\\dots$ \\\\\n",
       "\t3 & 4.77493 & 4 & 108.0 & 93 & 3.85 & 2.32 & 18.61 & 1 & 1 & 4 & $\\dots$ \\\\\n",
       "\t4 & 4.62601 & 6 & 258.0 & 110 & 3.08 & 3.215 & 19.44 & 1 & 0 & 3 & $\\dots$ \\\\\n",
       "\t5 & 4.32435 & 8 & 360.0 & 175 & 3.15 & 3.44 & 17.02 & 0 & 0 & 3 & $\\dots$ \\\\\n",
       "\\end{tabular}\n"
      ],
      "text/plain": [
       "\u001b[1m5×13 DataFrame\u001b[0m\n",
       "\u001b[1m Row \u001b[0m│\u001b[1m mpg     \u001b[0m\u001b[1m cyl   \u001b[0m\u001b[1m disp    \u001b[0m\u001b[1m hp    \u001b[0m\u001b[1m drat    \u001b[0m\u001b[1m wt      \u001b[0m\u001b[1m qsec    \u001b[0m\u001b[1m vs    \u001b[0m\u001b[1m am   \u001b[0m ⋯\n",
       "\u001b[1m     \u001b[0m│\u001b[90m Float64 \u001b[0m\u001b[90m Int64 \u001b[0m\u001b[90m Float64 \u001b[0m\u001b[90m Int64 \u001b[0m\u001b[90m Float64 \u001b[0m\u001b[90m Float64 \u001b[0m\u001b[90m Float64 \u001b[0m\u001b[90m Int64 \u001b[0m\u001b[90m Int64\u001b[0m ⋯\n",
       "─────┼──────────────────────────────────────────────────────────────────────────\n",
       "   1 │ 4.58258      6    160.0    110     3.9     2.62     16.46      0      1 ⋯\n",
       "   2 │ 4.58258      6    160.0    110     3.9     2.875    17.02      0      1\n",
       "   3 │ 4.77493      4    108.0     93     3.85    2.32     18.61      1      1\n",
       "   4 │ 4.62601      6    258.0    110     3.08    3.215    19.44      1      0\n",
       "   5 │ 4.32435      8    360.0    175     3.15    3.44     17.02      0      0 ⋯\n",
       "\u001b[36m                                                               4 columns omitted\u001b[0m"
      ]
     },
     "metadata": {},
     "output_type": "display_data"
    }
   ],
   "source": [
    "cars = File(\"../../data-stats/mtcars.csv\") |> DataFrame;\n",
    "cars |> x -> first(x, 5)"
   ]
  },
  {
   "cell_type": "code",
   "execution_count": 3,
   "metadata": {},
   "outputs": [
    {
     "data": {
      "text/html": [
       "<div class=\"data-frame\"><p>5 rows × 3 columns</p><table class=\"data-frame\"><thead><tr><th></th><th>14.3</th><th> 1</th><th> 1_1</th></tr><tr><th></th><th title=\"Float64\">Float64</th><th title=\"Int64\">Int64</th><th title=\"Int64\">Int64</th></tr></thead><tbody><tr><th>1</th><td>14.0</td><td>1</td><td>1</td></tr><tr><th>2</th><td>14.8</td><td>1</td><td>1</td></tr><tr><th>3</th><td>13.6</td><td>1</td><td>2</td></tr><tr><th>4</th><td>13.6</td><td>1</td><td>2</td></tr><tr><th>5</th><td>13.8</td><td>1</td><td>2</td></tr></tbody></table></div>"
      ],
      "text/latex": [
       "\\begin{tabular}{r|ccc}\n",
       "\t& 14.3 &  1 &  1\\_1\\\\\n",
       "\t\\hline\n",
       "\t& Float64 & Int64 & Int64\\\\\n",
       "\t\\hline\n",
       "\t1 & 14.0 & 1 & 1 \\\\\n",
       "\t2 & 14.8 & 1 & 1 \\\\\n",
       "\t3 & 13.6 & 1 & 2 \\\\\n",
       "\t4 & 13.6 & 1 & 2 \\\\\n",
       "\t5 & 13.8 & 1 & 2 \\\\\n",
       "\\end{tabular}\n"
      ],
      "text/plain": [
       "\u001b[1m5×3 DataFrame\u001b[0m\n",
       "\u001b[1m Row \u001b[0m│\u001b[1m 14.3    \u001b[0m\u001b[1m  1    \u001b[0m\u001b[1m  1_1  \u001b[0m\n",
       "\u001b[1m     \u001b[0m│\u001b[90m Float64 \u001b[0m\u001b[90m Int64 \u001b[0m\u001b[90m Int64 \u001b[0m\n",
       "─────┼───────────────────────\n",
       "   1 │    14.0      1      1\n",
       "   2 │    14.8      1      1\n",
       "   3 │    13.6      1      2\n",
       "   4 │    13.6      1      2\n",
       "   5 │    13.8      1      2"
      ]
     },
     "metadata": {},
     "output_type": "display_data"
    }
   ],
   "source": [
    "altman = File(\"../../data-stats/altman_12_6.txt\", delim = \",\") |> DataFrame;\n",
    "altman |> x -> first(x, 5)\n"
   ]
  },
  {
   "cell_type": "code",
   "execution_count": 4,
   "metadata": {},
   "outputs": [],
   "source": []
  }
 ],
 "metadata": {
  "kernelspec": {
   "display_name": "Julia 1.7.1",
   "language": "julia",
   "name": "julia-1.7"
  },
  "language_info": {
   "file_extension": ".jl",
   "mimetype": "application/julia",
   "name": "julia",
   "version": "1.7.1"
  },
  "orig_nbformat": 4
 },
 "nbformat": 4,
 "nbformat_minor": 2
}
